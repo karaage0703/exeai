{
  "cells": [
    {
      "cell_type": "raw",
      "metadata": {},
      "source": [
        "---\n",
        "title: 機械学習で用いる数学の基礎\n",
        "format: html\n",
        "toc: true\n",
        "toc-depth: 3\n",
        "---"
      ]
    },
    {
      "cell_type": "markdown",
      "metadata": {},
      "source": [
        "機械学習で用いる数学について、Pythonを使って学びましょう。\n",
        "基礎的なものは中学や高校で学んだ内容です。\n",
        "復習をしながらPythonではどのように扱うのかを身につけましょう。\n",
        "\n",
        "\n",
        "## 利用するライブラリの読み込み\n",
        "\n",
        "Python標準ライブラリおよびJupyterHub環境（`hub-scipy-notebook`を想定）で導入済みのライブラリを使用します。ここで扱う数学的な処理は標準ライブラリの`math`と数値計算、多次元配列を扱うライブラリである`NumPy`です。どちらも同様の機能を提供します。"
      ]
    },
    {
      "cell_type": "code",
      "execution_count": 1,
      "metadata": {},
      "outputs": [],
      "source": [
        "# 利用するライブラリを読み込む\n",
        "# as で別名をつけることができる（長いライブラリ名を省略）\n",
        "import math # 数学演算のための標準ライブラリ\n",
        "import matplotlib.pyplot as plt # グラフ作成用\n",
        "import japanize_matplotlib # matplotlibの日本語化\n",
        "import numpy as np # 数値計算用"
      ]
    },
    {
      "cell_type": "markdown",
      "metadata": {},
      "source": [
        "## 変数・定数・関数\n",
        "\n",
        "![変数・定数・関数の関係](https://github.com/uribo/exeai/raw/8470788015c29a18b0a312308bb84d61d8ee59ab/img/slide03_function.jpeg)\n",
        "\n",
        "- 変数: さまざまな値を取り得る値\n",
        "- 定数: 決められた値\n",
        "- 関数: 入力と出力の関係性を表す数式。入力$x$が決まると出力$y$の値も決まる、一対一の関係。\n",
        "\n",
        "消費税率10%の店で100円のトマトを3個買うとき..."
      ]
    },
    {
      "cell_type": "code",
      "execution_count": 2,
      "metadata": {},
      "outputs": [
        {
          "name": "stdout",
          "output_type": "stream",
          "text": [
            "金額:  330.0 円\n"
          ]
        }
      ],
      "source": [
        "TOMATO_PRICE = 100\n",
        "TAX = 10\n",
        "n = 3\n",
        "\n",
        "print(\"金額: \", (TOMATO_PRICE + (TOMATO_PRICE/TAX)) * n, \"円\")"
      ]
    },
    {
      "cell_type": "markdown",
      "metadata": {},
      "source": [
        "同じ店で同じトマトを5個買うとき..."
      ]
    },
    {
      "cell_type": "code",
      "execution_count": 3,
      "metadata": {},
      "outputs": [
        {
          "name": "stdout",
          "output_type": "stream",
          "text": [
            "金額:  550.0 円\n"
          ]
        }
      ],
      "source": [
        "n = 5\n",
        "\n",
        "print(\"金額: \", (TOMATO_PRICE + (TOMATO_PRICE/TAX)) * n, \"円\")"
      ]
    },
    {
      "cell_type": "markdown",
      "metadata": {},
      "source": [
        "変わらないのはトマトの価格と消費税率（`TOMATO_PRICE`と`TAX`）... 定数[^1]\n",
        "\n",
        "変わったのはトマトの個数 ... 変数\n",
        "\n",
        "[^1]: Pythonでは変数と定数を明確に区分する仕組みはありません。Pythonコミュニティにおけるコードの記述ルールをまとめたコーディング規約であるPEP 8では定数の名前は大文字で書き、単語をアンダースコアで区切ることが[明記されています](https://pep8-ja.readthedocs.io/ja/latest/#section-33)。\n",
        "\n",
        "これらの定数と変数の関係を関数にまとめてみましょう。\n",
        "Pythonでは関数の定義を`def`文を使って行います。"
      ]
    },
    {
      "cell_type": "code",
      "execution_count": 4,
      "metadata": {},
      "outputs": [],
      "source": [
        "# 1個100円で消費税率10%の商品に対して、\n",
        "# 個数に応じていくらになるかを求める関数\n",
        "def fn_tomato(n = 1):\n",
        "  PRICE = 100\n",
        "  TAX = 0.1\n",
        "  price_in_tax = PRICE + PRICE * TAX\n",
        "  # returnで関数の戻り値を指定\n",
        "  # return 文を省略すると関数は None を返す\n",
        "  return price_in_tax * n"
      ]
    },
    {
      "cell_type": "code",
      "execution_count": 5,
      "metadata": {},
      "outputs": [
        {
          "name": "stdout",
          "output_type": "stream",
          "text": [
            "金額:  330.0 円\n",
            "金額:  550.0 円\n"
          ]
        }
      ],
      "source": [
        "print(\"金額: \", fn_tomato(3), \"円\") # 3個\n",
        "print(\"金額: \", fn_tomato(5), \"円\") # 5個"
      ]
    },
    {
      "cell_type": "markdown",
      "metadata": {},
      "source": [
        "関数を用いることで、定数の記述を省略し、変数だけを変更した計算が容易に行えるようになりました。このように関数では、関連のある一連の処理をまとめて再利用することができて便利です。また、コードに問題が生じたときも関数の部分に注目して修正を行える利点があります。\n",
        "\n",
        "## 一次関数\n",
        "\n",
        "一次関数$y=ax+b$について考えます。この一次関数では2つの定数$a$と$b$が存在し、それぞれ傾きと切片として機能します。\n",
        "\n",
        "ここで、定数が異なる一次関数がどのようにグラフ上で変化するか確認しましょう。変数である$x$にはNumPyの`linspace()`関数により生成した隣接する項との差が一定の等差数列を与えます。"
      ]
    },
    {
      "cell_type": "code",
      "execution_count": 6,
      "metadata": {},
      "outputs": [
        {
          "data": {
            "image/png": "[encoded data removed]",
            "text/plain": [
              "<Figure size 640x480 with 1 Axes>"
            ]
          },
          "metadata": {},
          "output_type": "display_data"
        }
      ],
      "source": [
        "# 2つの一次関数によるグラフを作成する\n",
        "x = np.linspace(0, 10, 5) # 0から10までの公差が2.5の等差数列を生成\n",
        "\n",
        "# 定数が異なる一次関数に変数を当てはめてyの値を得る\n",
        "y1 = 3 * x + 5\n",
        "y2 = 2.4 * x + 2\n",
        "\n",
        "# xとyの関係をグラフに描画\n",
        "plt.grid(True)\n",
        "plt.plot(x, y1, label=\"式 y = 3x + 5\", color=\"#5097F8\")\n",
        "plt.plot(x, y2, label=\"式 y = 2.4x + 2\", color=\"#fc5998\")\n",
        "plt.legend(loc=\"upper left\")\n",
        "plt.show()"
      ]
    },
    {
      "cell_type": "markdown",
      "metadata": {},
      "source": [
        "一次関数のグラフは直線を描きます。異なる定数からなる一次関数のグラフは、異なる直線になっていることがわかります。\n",
        "\n",
        "機械学習・深層学習では、このような関数の出力に影響を及ぼす「重み」を変数として学習し、未知のデータに対しては定数として「重み」を利用します。特に深層学習では複数の中間層が「重み」をもつことになり、より柔軟な表現力を得ることがモデルの性能向上に貢献しています。"
      ]
    },
    {
      "cell_type": "code",
      "execution_count": 7,
      "metadata": {},
      "outputs": [],
      "source": [
        "#| include: false\n",
        "plt.close()"
      ]
    },
    {
      "cell_type": "markdown",
      "metadata": {},
      "source": [
        "## 平方根\n",
        "\n",
        "平方根は`math`、`NumPy`で利用方法が異なります。\n",
        "それぞれのライブラリでの平方根の使い方をみましょう。\n",
        "\n",
        "$\\sqrt{2}$"
      ]
    },
    {
      "cell_type": "code",
      "execution_count": 8,
      "metadata": {},
      "outputs": [
        {
          "data": {
            "text/plain": [
              "1.4142135623730951"
            ]
          },
          "execution_count": 8,
          "metadata": {},
          "output_type": "execute_result"
        }
      ],
      "source": [
        "math.sqrt(2)\n",
        "\n",
        "np.sqrt(2)"
      ]
    },
    {
      "cell_type": "markdown",
      "metadata": {},
      "source": [
        "$\\sqrt{3}$"
      ]
    },
    {
      "cell_type": "code",
      "execution_count": 9,
      "metadata": {},
      "outputs": [
        {
          "data": {
            "text/plain": [
              "1.7320508075688772"
            ]
          },
          "execution_count": 9,
          "metadata": {},
          "output_type": "execute_result"
        }
      ],
      "source": [
        "math.sqrt(3)\n",
        "\n",
        "np.sqrt(3)"
      ]
    },
    {
      "cell_type": "code",
      "execution_count": 10,
      "metadata": {},
      "outputs": [
        {
          "data": {
            "text/plain": [
              "array([0.        , 1.58113883, 2.23606798, 2.73861279, 3.16227766])"
            ]
          },
          "execution_count": 10,
          "metadata": {},
          "output_type": "execute_result"
        }
      ],
      "source": [
        "#| eval: false\n",
        "#| echo: true\n",
        "# 問題: 「富士山麓オウム鳴く」となる整数は？\n",
        "x = x\n",
        "np.sqrt(x)"
      ]
    },
    {
      "cell_type": "markdown",
      "metadata": {},
      "source": [
        "## 累乗\n",
        "\n",
        "- `**`演算子\n",
        "- mathライブラリの`pow()`関数\n",
        "- numpyライブラリの`power()`関数"
      ]
    },
    {
      "cell_type": "code",
      "execution_count": 11,
      "metadata": {},
      "outputs": [],
      "source": [
        "base = 3 # 底\n",
        "exponent = 2 # 指数"
      ]
    },
    {
      "cell_type": "code",
      "execution_count": 12,
      "metadata": {},
      "outputs": [
        {
          "data": {
            "text/plain": [
              "9"
            ]
          },
          "execution_count": 12,
          "metadata": {},
          "output_type": "execute_result"
        }
      ],
      "source": [
        "base**exponent"
      ]
    },
    {
      "cell_type": "code",
      "execution_count": 13,
      "metadata": {},
      "outputs": [
        {
          "data": {
            "text/plain": [
              "9.0"
            ]
          },
          "execution_count": 13,
          "metadata": {},
          "output_type": "execute_result"
        }
      ],
      "source": [
        "math.pow(base, exponent)"
      ]
    },
    {
      "cell_type": "code",
      "execution_count": 14,
      "metadata": {},
      "outputs": [
        {
          "data": {
            "text/plain": [
              "9"
            ]
          },
          "execution_count": 14,
          "metadata": {},
          "output_type": "execute_result"
        }
      ],
      "source": [
        "np.power(base, exponent)"
      ]
    },
    {
      "cell_type": "markdown",
      "metadata": {},
      "source": [
        "## 指数関数と対数関数\n",
        "\n",
        "### 指数関数\n",
        "\n",
        "指数関数... 指数を変数とした関数"
      ]
    },
    {
      "cell_type": "code",
      "execution_count": 15,
      "metadata": {},
      "outputs": [
        {
          "data": {
            "text/plain": [
              "7.38905609893065"
            ]
          },
          "execution_count": 15,
          "metadata": {},
          "output_type": "execute_result"
        }
      ],
      "source": [
        "# 引数として与えられた数値の指数関数の値を返す\n",
        "# e^2\n",
        "# eは自然対数の底。およそ2.71828\n",
        "np.exp(2)\n",
        "\n",
        "# np.power()で同じ値が得られることを確認\n",
        "# np.power(2.71828, 2)"
      ]
    },
    {
      "cell_type": "code",
      "execution_count": 16,
      "metadata": {},
      "outputs": [
        {
          "data": {
            "image/png": "[encoded data removed]",
            "text/plain": [
              "<Figure size 640x480 with 1 Axes>"
            ]
          },
          "metadata": {},
          "output_type": "display_data"
        }
      ],
      "source": [
        "# 0から10まで0.1刻みの配列を生成\n",
        "x = np.arange(0, 10, 0.1)\n",
        "\n",
        "y = np.exp(x)\n",
        "\n",
        "plt.suptitle(\"指数関数のグラフ\")\n",
        "plt.plot(x, y, color = \"#5097F8\")\n",
        "plt.grid(True)\n",
        "\n",
        "plt.show()"
      ]
    },
    {
      "cell_type": "code",
      "execution_count": 17,
      "metadata": {},
      "outputs": [],
      "source": [
        "#| include: false\n",
        "plt.close()"
      ]
    },
    {
      "cell_type": "markdown",
      "metadata": {},
      "source": [
        "### 対数関数"
      ]
    },
    {
      "cell_type": "code",
      "execution_count": 18,
      "metadata": {},
      "outputs": [
        {
          "data": {
            "text/plain": [
              "2.0"
            ]
          },
          "execution_count": 18,
          "metadata": {},
          "output_type": "execute_result"
        }
      ],
      "source": [
        "x = np.exp(2)\n",
        "np.log(x)"
      ]
    },
    {
      "cell_type": "code",
      "execution_count": 19,
      "metadata": {},
      "outputs": [
        {
          "data": {
            "image/png": "[encoded data removed]",
            "text/plain": [
              "<Figure size 640x480 with 1 Axes>"
            ]
          },
          "metadata": {},
          "output_type": "display_data"
        }
      ],
      "source": [
        "# 0.1から10まで0.1刻みの配列を生成\n",
        "x = np.arange(0.1, 10, 0.1)\n",
        "\n",
        "y = np.log(x)\n",
        "\n",
        "plt.suptitle(\"対数関数のグラフ\")\n",
        "plt.plot(x, y, color = \"#5097F8\")\n",
        "plt.grid(True)\n",
        "\n",
        "plt.show()"
      ]
    },
    {
      "cell_type": "markdown",
      "metadata": {},
      "source": [
        "常用対数"
      ]
    },
    {
      "cell_type": "code",
      "execution_count": 20,
      "metadata": {},
      "outputs": [
        {
          "data": {
            "text/plain": [
              "1.0"
            ]
          },
          "execution_count": 20,
          "metadata": {},
          "output_type": "execute_result"
        }
      ],
      "source": [
        "np.log10(10)"
      ]
    },
    {
      "cell_type": "markdown",
      "metadata": {},
      "source": [
        "## ベクトル\n",
        "\n",
        "リストは行ベクトルとして機能します。ただしベクトル同士の演算を行うことは難しいです。"
      ]
    },
    {
      "cell_type": "code",
      "execution_count": 21,
      "metadata": {},
      "outputs": [
        {
          "name": "stdout",
          "output_type": "stream",
          "text": [
            "[1, 2, 3, 4, 5]\n"
          ]
        }
      ],
      "source": [
        "vector = [1, 2, 3, 4, 5]\n",
        "print(vector)"
      ]
    },
    {
      "cell_type": "markdown",
      "metadata": {},
      "source": [
        "そのためベクトル演算を実現するにはNumPyの`array()`関数を利用する方法が簡単です。なおの`array()`関数では厳密に行ベクトルまたは列ベクトルを区別せずに1次元配列を表現するために使用されます。"
      ]
    },
    {
      "cell_type": "code",
      "execution_count": 22,
      "metadata": {},
      "outputs": [],
      "source": [
        "vector = np.array([1, 2, 3, 4, 5])"
      ]
    },
    {
      "cell_type": "code",
      "execution_count": 23,
      "metadata": {},
      "outputs": [
        {
          "data": {
            "text/plain": [
              "array([ 2,  4,  6,  8, 10])"
            ]
          },
          "execution_count": 23,
          "metadata": {},
          "output_type": "execute_result"
        }
      ],
      "source": [
        "# ベクトルの和\n",
        "vector + vector"
      ]
    },
    {
      "cell_type": "code",
      "execution_count": 24,
      "metadata": {},
      "outputs": [
        {
          "data": {
            "text/plain": [
              "array([ 1,  0, -1,  3,  4])"
            ]
          },
          "execution_count": 24,
          "metadata": {},
          "output_type": "execute_result"
        }
      ],
      "source": [
        "# ベクトルの差\n",
        "vector - np.array([0, 2, 4, 1, 1])"
      ]
    },
    {
      "cell_type": "code",
      "execution_count": 25,
      "metadata": {},
      "outputs": [
        {
          "data": {
            "text/plain": [
              "[1, 2, 3, 4, 5, 1, 2, 3, 4, 5]"
            ]
          },
          "execution_count": 25,
          "metadata": {},
          "output_type": "execute_result"
        }
      ],
      "source": [
        "# リストによるベクトルでは+演算子を使ったベクトルの和の計算が行えない\n",
        "[1, 2, 3, 4, 5]+[1, 2, 3, 4, 5]"
      ]
    },
    {
      "cell_type": "markdown",
      "metadata": {},
      "source": [
        "ベクトルの和は同じ成分の数からなるベクトル同士でないと計算できません。"
      ]
    },
    {
      "cell_type": "code",
      "execution_count": 26,
      "metadata": {},
      "outputs": [
        {
          "ename": "ValueError",
          "evalue": "operands could not be broadcast together with shapes (5,) (2,) ",
          "output_type": "error",
          "traceback": [
            "\u001b[0;31m---------------------------------------------------------------------------\u001b[0m",
            "\u001b[0;31mValueError\u001b[0m                                Traceback (most recent call last)",
            "Cell \u001b[0;32mIn[26], line 4\u001b[0m\n\u001b[1;32m      1\u001b[0m \u001b[39m#| error: true\u001b[39;00m\n\u001b[1;32m      2\u001b[0m vector2 \u001b[39m=\u001b[39m np\u001b[39m.\u001b[39marray([\u001b[39m6\u001b[39m, \u001b[39m7\u001b[39m])\n\u001b[0;32m----> 4\u001b[0m vector \u001b[39m+\u001b[39;49m vector2\n",
            "\u001b[0;31mValueError\u001b[0m: operands could not be broadcast together with shapes (5,) (2,) "
          ]
        }
      ],
      "source": [
        "#| error: true\n",
        "vector2 = np.array([6, 7])\n",
        "\n",
        "vector + vector2"
      ]
    },
    {
      "cell_type": "markdown",
      "metadata": {},
      "source": [
        "NumPyでベクトルの要素数を知る方法は、`numpy.array`オブジェクトのsize属性を使用する、`len()`関数を用いるなどがあります。"
      ]
    },
    {
      "cell_type": "code",
      "execution_count": 27,
      "metadata": {},
      "outputs": [
        {
          "data": {
            "text/plain": [
              "5"
            ]
          },
          "execution_count": 27,
          "metadata": {},
          "output_type": "execute_result"
        }
      ],
      "source": [
        "# numpy.arrayの要素数を確認\n",
        "vector.size\n",
        "\n",
        "np.size(vector)\n",
        "np.size(vector2)\n",
        "\n",
        "len(vector)"
      ]
    },
    {
      "cell_type": "markdown",
      "metadata": {},
      "source": [
        "### ベクトルの内積: 同一次元のベクトル同士のかけ算\n"
      ]
    },
    {
      "cell_type": "code",
      "execution_count": 28,
      "metadata": {},
      "outputs": [
        {
          "name": "stdout",
          "output_type": "stream",
          "text": [
            "内積: 32\n"
          ]
        }
      ],
      "source": [
        "# ベクトル u と v を定義\n",
        "u = np.array([1, 2, 3])\n",
        "v = np.array([4, 5, 6])\n",
        "\n",
        "# NumPyのdot関数を使って内積を計算\n",
        "inner_product = np.dot(u, v)\n",
        "\n",
        "print(\"内積:\", inner_product)"
      ]
    },
    {
      "cell_type": "code",
      "execution_count": 29,
      "metadata": {},
      "outputs": [
        {
          "data": {
            "text/plain": [
              "32"
            ]
          },
          "execution_count": 29,
          "metadata": {},
          "output_type": "execute_result"
        }
      ],
      "source": [
        "# 検算\n",
        "(1 * 4) + (2 * 5) + (3 * 6)"
      ]
    },
    {
      "cell_type": "markdown",
      "metadata": {},
      "source": [
        "内積は次元の等しいベクトル同士でないと求められません。"
      ]
    },
    {
      "cell_type": "code",
      "execution_count": 30,
      "metadata": {},
      "outputs": [
        {
          "ename": "ValueError",
          "evalue": "shapes (3,) and (2,) not aligned: 3 (dim 0) != 2 (dim 0)",
          "output_type": "error",
          "traceback": [
            "\u001b[0;31m---------------------------------------------------------------------------\u001b[0m",
            "\u001b[0;31mValueError\u001b[0m                                Traceback (most recent call last)",
            "Cell \u001b[0;32mIn[30], line 2\u001b[0m\n\u001b[1;32m      1\u001b[0m \u001b[39m#| error: true\u001b[39;00m\n\u001b[0;32m----> 2\u001b[0m np\u001b[39m.\u001b[39;49mdot(u, np\u001b[39m.\u001b[39;49marray([\u001b[39m3\u001b[39;49m, \u001b[39m2\u001b[39;49m]))\n",
            "File \u001b[0;32m<__array_function__ internals>:180\u001b[0m, in \u001b[0;36mdot\u001b[0;34m(*args, **kwargs)\u001b[0m\n",
            "\u001b[0;31mValueError\u001b[0m: shapes (3,) and (2,) not aligned: 3 (dim 0) != 2 (dim 0)"
          ]
        }
      ],
      "source": [
        "#| error: true\n",
        "np.dot(u, np.array([3, 2]))"
      ]
    },
    {
      "cell_type": "markdown",
      "metadata": {},
      "source": [
        "## 行列\n",
        "\n",
        "行列の表現もNumPyを使うと演算（行列の加算、減算、乗算、転置、逆行列）が簡単に行えるようになります。"
      ]
    },
    {
      "cell_type": "code",
      "execution_count": 31,
      "metadata": {},
      "outputs": [
        {
          "data": {
            "text/plain": [
              "array([[1, 2, 3],\n",
              "       [4, 5, 6],\n",
              "       [7, 8, 9]])"
            ]
          },
          "execution_count": 31,
          "metadata": {},
          "output_type": "execute_result"
        }
      ],
      "source": [
        "matrix = np.array([\n",
        "    [1, 2, 3],\n",
        "    [4, 5, 6],\n",
        "    [7, 8, 9]\n",
        "])\n",
        "\n",
        "matrix"
      ]
    },
    {
      "cell_type": "markdown",
      "metadata": {},
      "source": [
        "### 行列の転置"
      ]
    },
    {
      "cell_type": "code",
      "execution_count": 32,
      "metadata": {},
      "outputs": [
        {
          "data": {
            "text/plain": [
              "array([[1, 4, 7],\n",
              "       [2, 5, 8],\n",
              "       [3, 6, 9]])"
            ]
          },
          "execution_count": 32,
          "metadata": {},
          "output_type": "execute_result"
        }
      ],
      "source": [
        "# 行列の縦と横を入れ替える\n",
        "matrix.T"
      ]
    }
  ],
  "metadata": {
    "kernelspec": {
      "display_name": "Python 3",
      "language": "python",
      "name": "python3"
    },
    "language_info": {
      "codemirror_mode": {
        "name": "ipython",
        "version": 3
      },
      "file_extension": ".py",
      "mimetype": "text/x-python",
      "name": "python",
      "nbconvert_exporter": "python",
      "pygments_lexer": "ipython3",
      "version": "3.10.11"
    }
  },
  "nbformat": 4,
  "nbformat_minor": 4
}

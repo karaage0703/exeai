{
 "cells": [
  {
   "cell_type": "markdown",
   "metadata": {},
   "source": [
    "## 表形式のデータ（データフレーム）の操作"
   ]
  },
  {
   "cell_type": "code",
   "execution_count": 2,
   "metadata": {
    "tags": []
   },
   "outputs": [],
   "source": [
    "# 利用するライブラリを読み込む\n",
    "# as で別名をつけることができる（長いライブラリ名の省略）\n",
    "import pandas as pd # 表形式データの操作\n",
    "import polars as pl # pandas と同じく表形式データの操作\n",
    "import matplotlib.pyplot as plt # データ可視化\n",
    "import japanize_matplotlib # matplotlibの日本語化\n",
    "import numpy as np # 数値計算用"
   ]
  },
  {
   "cell_type": "markdown",
   "metadata": {},
   "source": [
    "データフレームの操作には`polars`と`pandas`の2つのライブラリを使用すると便利です。"
   ]
  },
  {
   "cell_type": "code",
   "execution_count": 3,
   "metadata": {
    "tags": []
   },
   "outputs": [],
   "source": [
    "# データ（csvファイル）の読み込み\n",
    "# ファイルがある場所（パス）を指定する\n",
    "# ウェブ上のデータを読み込む場合はURLを指定する\n",
    "df = pl.read_csv(\"https://raw.githubusercontent.com/uribo/cue2022aw_r104/main/data-raw/shikoku_kome_sisyutu2019to2021/20221121T014749Z-f75ff/shikoku_kome_sisyutu2019to2021.csv\")"
   ]
  },
  {
   "cell_type": "code",
   "execution_count": 4,
   "metadata": {},
   "outputs": [
    {
     "data": {
      "text/plain": [
       "[Int64, Utf8, Int64, Utf8, Utf8, Int64]"
      ]
     },
     "execution_count": 4,
     "metadata": {},
     "output_type": "execute_result"
    }
   ],
   "source": [
    "# 読み込んだデータの確認\n",
    "# shape: データの行数と列数を確認する\n",
    "df.shape"
   ]
  },
  {
   "cell_type": "code",
   "execution_count": 5,
   "metadata": {},
   "outputs": [
    {
     "data": {
      "text/plain": [
       "[Int64, Utf8, Int64, Utf8, Utf8, Int64]"
      ]
     },
     "execution_count": 5,
     "metadata": {},
     "output_type": "execute_result"
    }
   ],
   "source": [
    "# 型の確認\n",
    "df.dtypes"
   ]
  },
  {
   "cell_type": "markdown",
   "metadata": {},
   "source": [
    "### データの可視化"
   ]
  },
  {
   "attachments": {},
   "cell_type": "markdown",
   "metadata": {},
   "source": [
    "コードセルで`df`と入力して実行すると、データフレームの中身が表示されます。\n",
    "一方、行数の多いデータを出力すると画面が埋まってしまうので、一部だけを確認したいこともあります。\n",
    "その場合、headやtailを使います。これにより、データフレームの先頭行や末尾行を表示することができます。括弧内の値は表示する行数です。"
   ]
  },
  {
   "cell_type": "code",
   "execution_count": 4,
   "metadata": {},
   "outputs": [
    {
     "data": {
      "text/html": [
       "<div><style>\n",
       ".dataframe > thead > tr > th,\n",
       ".dataframe > tbody > tr > td {\n",
       "  text-align: right;\n",
       "}\n",
       "</style>\n",
       "<small>shape: (3, 6)</small><table border=\"1\" class=\"dataframe\"><thead><tr><th>ym</th><th>品目分類</th><th>市区町村コード</th><th>市</th><th>項目</th><th>value</th></tr><tr><td>i64</td><td>str</td><td>i64</td><td>str</td><td>str</td><td>i64</td></tr></thead><tbody><tr><td>201901</td><td>&quot;アイスクリーム・シャーベット…</td><td>36201</td><td>&quot;徳島市&quot;</td><td>&quot;支出金額_複数単位&quot;</td><td>367</td></tr><tr><td>201901</td><td>&quot;アイスクリーム・シャーベット…</td><td>36201</td><td>&quot;徳島市&quot;</td><td>&quot;購入頻度_100世帯当たり&quot;</td><td>123</td></tr><tr><td>201901</td><td>&quot;殺虫・防虫剤&quot;</td><td>36201</td><td>&quot;徳島市&quot;</td><td>&quot;支出金額_複数単位&quot;</td><td>7</td></tr></tbody></table></div>"
      ],
      "text/plain": [
       "shape: (3, 6)\n",
       "┌────────┬──────────────────────────────┬────────────────┬────────┬────────────────────────┬───────┐\n",
       "│ ym     ┆ 品目分類                     ┆ 市区町村コード ┆ 市     ┆ 項目                   ┆ value │\n",
       "│ ---    ┆ ---                          ┆ ---            ┆ ---    ┆ ---                    ┆ ---   │\n",
       "│ i64    ┆ str                          ┆ i64            ┆ str    ┆ str                    ┆ i64   │\n",
       "╞════════╪══════════════════════════════╪════════════════╪════════╪════════════════════════╪═══════╡\n",
       "│ 201901 ┆ アイスクリーム・シャーベット ┆ 36201          ┆ 徳島市 ┆ 支出金額_複数単位      ┆ 367   │\n",
       "│ 201901 ┆ アイスクリーム・シャーベット ┆ 36201          ┆ 徳島市 ┆ 購入頻度_100世帯当たり ┆ 123   │\n",
       "│ 201901 ┆ 殺虫・防虫剤                 ┆ 36201          ┆ 徳島市 ┆ 支出金額_複数単位      ┆ 7     │\n",
       "└────────┴──────────────────────────────┴────────────────┴────────┴────────────────────────┴───────┘"
      ]
     },
     "execution_count": 4,
     "metadata": {},
     "output_type": "execute_result"
    }
   ],
   "source": [
    "# 先頭3行を表示する\n",
    "df.head(3)"
   ]
  },
  {
   "cell_type": "code",
   "execution_count": 5,
   "metadata": {
    "tags": []
   },
   "outputs": [
    {
     "data": {
      "text/html": [
       "<div><style>\n",
       ".dataframe > thead > tr > th,\n",
       ".dataframe > tbody > tr > td {\n",
       "  text-align: right;\n",
       "}\n",
       "</style>\n",
       "<small>shape: (2, 6)</small><table border=\"1\" class=\"dataframe\"><thead><tr><th>ym</th><th>品目分類</th><th>市区町村コード</th><th>市</th><th>項目</th><th>value</th></tr><tr><td>i64</td><td>str</td><td>i64</td><td>str</td><td>str</td><td>i64</td></tr></thead><tbody><tr><td>202112</td><td>&quot;米&quot;</td><td>39201</td><td>&quot;高知市&quot;</td><td>&quot;支出金額_複数単位&quot;</td><td>1557</td></tr><tr><td>202112</td><td>&quot;米&quot;</td><td>39201</td><td>&quot;高知市&quot;</td><td>&quot;購入頻度_100世帯当たり&quot;</td><td>73</td></tr></tbody></table></div>"
      ],
      "text/plain": [
       "shape: (2, 6)\n",
       "┌────────┬────────────┬────────────────┬────────┬────────────────────────┬───────┐\n",
       "│ ym     ┆ 品目分類   ┆ 市区町村コード ┆ 市     ┆ 項目                   ┆ value │\n",
       "│ ---    ┆ ---        ┆ ---            ┆ ---    ┆ ---                    ┆ ---   │\n",
       "│ i64    ┆ str        ┆ i64            ┆ str    ┆ str                    ┆ i64   │\n",
       "╞════════╪════════════╪════════════════╪════════╪════════════════════════╪═══════╡\n",
       "│ 202112 ┆ 米         ┆ 39201          ┆ 高知市 ┆ 支出金額_複数単位      ┆ 1557  │\n",
       "│ 202112 ┆ 米         ┆ 39201          ┆ 高知市 ┆ 購入頻度_100世帯当たり ┆ 73    │\n",
       "└────────┴────────────┴────────────────┴────────┴────────────────────────┴───────┘"
      ]
     },
     "execution_count": 5,
     "metadata": {},
     "output_type": "execute_result"
    }
   ],
   "source": [
    "# 末尾2行を表示する\n",
    "df.tail(2)"
   ]
  },
  {
   "attachments": {},
   "cell_type": "markdown",
   "metadata": {},
   "source": [
    "続いて、簡単なグラフを作成してみましょう。`matplotlib`にはPythonでグラフを作成する際に便利な関数をまとめた`pyplot`というモジュールがあります。`pyplot`を`plt`という名前でインポートしておきます。"
   ]
  },
  {
   "cell_type": "code",
   "execution_count": 6,
   "metadata": {},
   "outputs": [],
   "source": [
    "# import matplotlib.pyplot as plt # 最初のコードセルで実行済み"
   ]
  },
  {
   "attachments": {},
   "cell_type": "markdown",
   "metadata": {},
   "source": [
    "`plt`には、`plot`や`scatter`などの関数があります。`plot`は折れ線グラフを、`scatter`は散布図を作成します。今回は棒グラフを作成したいので`bar`が対応します。\n",
    "\n",
    "これらの関数の引数には、グラフに描画するx軸の値とy軸の値（変数）を指定します。\n",
    "\n",
    "matplotlibがサポートするグラフの種類や詳しい関数の利用方法は[公式ドキュメント](https://matplotlib.org/stable/plot_types/index)を参照してください。"
   ]
  },
  {
   "cell_type": "code",
   "execution_count": 7,
   "metadata": {},
   "outputs": [
    {
     "data": {
      "text/plain": [
       "<BarContainer object of 864 artists>"
      ]
     },
     "execution_count": 7,
     "metadata": {},
     "output_type": "execute_result"
    },
    {
     "data": {
      "image/png": "[encoded data removed]",
      "text/plain": [
       "<Figure size 640x480 with 1 Axes>"
      ]
     },
     "metadata": {},
     "output_type": "display_data"
    }
   ],
   "source": [
    "# 棒グラフを作成\n",
    "# x軸には品目分類、y軸にはvalueを指定する\n",
    "plt.bar(df['品目分類'], df['value'])\n",
    "# plt.show() # グラフを表示する"
   ]
  },
  {
   "attachments": {},
   "cell_type": "markdown",
   "metadata": {},
   "source": [
    "別のグラフを作成してみましょう。\n",
    "\n",
    "polarsライブラリのデータ操作関数を使い、一部のデータを抽出してグラフを作成してみます。"
   ]
  },
  {
   "cell_type": "code",
   "execution_count": 8,
   "metadata": {},
   "outputs": [
    {
     "data": {
      "text/html": [
       "<div><style>\n",
       ".dataframe > thead > tr > th,\n",
       ".dataframe > tbody > tr > td {\n",
       "  text-align: right;\n",
       "}\n",
       "</style>\n",
       "<small>shape: (4, 3)</small><table border=\"1\" class=\"dataframe\"><thead><tr><th>ym</th><th>品目分類</th><th>value</th></tr><tr><td>i64</td><td>str</td><td>i64</td></tr></thead><tbody><tr><td>201901</td><td>&quot;アイスクリーム・シャーベット…</td><td>367</td></tr><tr><td>201901</td><td>&quot;殺虫・防虫剤&quot;</td><td>7</td></tr><tr><td>201901</td><td>&quot;米&quot;</td><td>1138</td></tr><tr><td>201902</td><td>&quot;アイスクリーム・シャーベット…</td><td>244</td></tr></tbody></table></div>"
      ],
      "text/plain": [
       "shape: (4, 3)\n",
       "┌────────┬──────────────────────────────┬───────┐\n",
       "│ ym     ┆ 品目分類                     ┆ value │\n",
       "│ ---    ┆ ---                          ┆ ---   │\n",
       "│ i64    ┆ str                          ┆ i64   │\n",
       "╞════════╪══════════════════════════════╪═══════╡\n",
       "│ 201901 ┆ アイスクリーム・シャーベット ┆ 367   │\n",
       "│ 201901 ┆ 殺虫・防虫剤                 ┆ 7     │\n",
       "│ 201901 ┆ 米                           ┆ 1138  │\n",
       "│ 201902 ┆ アイスクリーム・シャーベット ┆ 244   │\n",
       "└────────┴──────────────────────────────┴───────┘"
      ]
     },
     "execution_count": 8,
     "metadata": {},
     "output_type": "execute_result"
    }
   ],
   "source": [
    "df2 = df.filter((pl.col(\"項目\") == \"支出金額_複数単位\") & (pl.col(\"市区町村コード\") == 36201))\n",
    "df2 = df2.select(\"ym\", \"品目分類\", \"value\")\n",
    "df2.head(4)\n"
   ]
  },
  {
   "attachments": {},
   "cell_type": "markdown",
   "metadata": {},
   "source": [
    "上記のコードは以下のコードの実行結果と同じです。\n",
    "polarsでは、`.`を使って処理内容をつなげて記述することができます。こうすることで変数への代入の手間がなくなるとともにコードを簡潔に記述できる利点があります。"
   ]
  },
  {
   "cell_type": "code",
   "execution_count": 9,
   "metadata": {},
   "outputs": [
    {
     "data": {
      "text/html": [
       "<div><style>\n",
       ".dataframe > thead > tr > th,\n",
       ".dataframe > tbody > tr > td {\n",
       "  text-align: right;\n",
       "}\n",
       "</style>\n",
       "<small>shape: (4, 3)</small><table border=\"1\" class=\"dataframe\"><thead><tr><th>ym</th><th>品目分類</th><th>value</th></tr><tr><td>i64</td><td>str</td><td>i64</td></tr></thead><tbody><tr><td>201901</td><td>&quot;アイスクリーム・シャーベット…</td><td>367</td></tr><tr><td>201901</td><td>&quot;殺虫・防虫剤&quot;</td><td>7</td></tr><tr><td>201901</td><td>&quot;米&quot;</td><td>1138</td></tr><tr><td>201902</td><td>&quot;アイスクリーム・シャーベット…</td><td>244</td></tr></tbody></table></div>"
      ],
      "text/plain": [
       "shape: (4, 3)\n",
       "┌────────┬──────────────────────────────┬───────┐\n",
       "│ ym     ┆ 品目分類                     ┆ value │\n",
       "│ ---    ┆ ---                          ┆ ---   │\n",
       "│ i64    ┆ str                          ┆ i64   │\n",
       "╞════════╪══════════════════════════════╪═══════╡\n",
       "│ 201901 ┆ アイスクリーム・シャーベット ┆ 367   │\n",
       "│ 201901 ┆ 殺虫・防虫剤                 ┆ 7     │\n",
       "│ 201901 ┆ 米                           ┆ 1138  │\n",
       "│ 201902 ┆ アイスクリーム・シャーベット ┆ 244   │\n",
       "└────────┴──────────────────────────────┴───────┘"
      ]
     },
     "execution_count": 9,
     "metadata": {},
     "output_type": "execute_result"
    }
   ],
   "source": [
    "df2 = (\n",
    "  df\n",
    "  .filter((df[\"項目\"] == \"支出金額_複数単位\") & (df[\"市区町村コード\"] == 36201))\n",
    "  .select(\"ym\", \"品目分類\", \"value\")\n",
    ")\n",
    "df2.head(4)"
   ]
  },
  {
   "attachments": {},
   "cell_type": "markdown",
   "metadata": {},
   "source": [
    "データの加工が済んだのでグラフを作成します。品目分類別に折れ線グラフを作成したいので、`groupby`関数を使います。`groupby`関数は、指定した列の値ごとにデータをグループ化します。今回は`item`列の値ごとにグループ化します。"
   ]
  },
  {
   "cell_type": "code",
   "execution_count": 10,
   "metadata": {},
   "outputs": [
    {
     "data": {
      "image/png": "[encoded data removed]",
      "text/plain": [
       "<Figure size 640x480 with 1 Axes>"
      ]
     },
     "metadata": {},
     "output_type": "display_data"
    }
   ],
   "source": [
    "# pandasデータフレームに変換\n",
    "df_pnd = df2.to_pandas()\n",
    "# 年月の表現を変換 (i64クラスの年月をdatetime形式に変換)\n",
    "df_pnd['ym'] = pd.to_datetime(df_pnd['ym'], format='%Y%m')\n",
    "\n",
    "# 品目ごとにデータフレームをグループ化\n",
    "grouped = df_pnd.groupby(\"品目分類\")\n",
    "\n",
    "# グループごとにプロット\n",
    "for item, group in grouped:\n",
    "    plt.plot(group[\"ym\"], group[\"value\"], label=item)\n",
    "\n",
    "plt.xlabel(\"年月\")\n",
    "plt.ylabel(\"金額\")\n",
    "plt.title(\"徳島市における品目分類別の支出金額の推移\")\n",
    "plt.legend()\n",
    "plt.grid(True)\n",
    "plt.show()"
   ]
  },
  {
   "attachments": {},
   "cell_type": "markdown",
   "metadata": {},
   "source": [
    "#### 棒グラフの塗り分け"
   ]
  },
  {
   "cell_type": "code",
   "execution_count": null,
   "metadata": {},
   "outputs": [],
   "source": []
  },
  {
   "cell_type": "code",
   "execution_count": 11,
   "metadata": {},
   "outputs": [
    {
     "data": {
      "image/png": "[encoded data removed]",
      "text/plain": [
       "<Figure size 640x480 with 1 Axes>"
      ]
     },
     "metadata": {},
     "output_type": "display_data"
    }
   ],
   "source": [
    "# グループごとに値を集計\n",
    "grouped_df = df2.groupby(\"品目分類\").agg(\n",
    "    total_value=pl.col(\"value\").sum()\n",
    ")\n",
    "# グループ名と集計された値を取得\n",
    "groups, aggregated_values = grouped_df.get_columns()\n",
    "\n",
    "# カラーマップを作成\n",
    "colors = plt.cm.viridis(np.linspace(0, 1, len(groups)))\n",
    "\n",
    "# 棒グラフを描画し、グループごとに塗り分け\n",
    "plt.bar(groups, aggregated_values, color=colors)\n",
    "\n",
    "plt.xlabel('品目')\n",
    "plt.ylabel('総支出金額')\n",
    "plt.title('徳島市における品目別支出金額総計')\n",
    "plt.show()"
   ]
  },
  {
   "cell_type": "markdown",
   "metadata": {},
   "source": [
    "### インタラクティブに操作可能な図の作成"
   ]
  },
  {
   "attachments": {},
   "cell_type": "markdown",
   "metadata": {},
   "source": [
    "plotlyライブラリを使うとインタラクティブに操作できるグラフを作成できます。"
   ]
  },
  {
   "cell_type": "code",
   "execution_count": 12,
   "metadata": {},
   "outputs": [],
   "source": [
    "import plotly.graph_objects as go\n"
   ]
  },
  {
   "cell_type": "code",
   "execution_count": 13,
   "metadata": {},
   "outputs": [],
   "source": [
    "# 棒グラフを作成\n",
    "fig = go.Figure(data=[go.Bar(x=groups, y=aggregated_values)])"
   ]
  },
  {
   "cell_type": "code",
   "execution_count": 14,
   "metadata": {},
   "outputs": [
    {
     "data": {
      "application/vnd.plotly.v1+json": {
       "config": {
        "plotlyServerURL": "https://plot.ly"
       },
       "data": [
        {
         "type": "bar",
         "x": [
          "アイスクリーム・シャーベット",
          "殺虫・防虫剤",
          "米"
         ],
         "y": [
          26410,
          9123,
          59161
         ]
        }
       ],
       "layout": {
        "template": {
         "data": {
          "bar": [
           {
            "error_x": {
             "color": "#2a3f5f"
            },
            "error_y": {
             "color": "#2a3f5f"
            },
            "marker": {
             "line": {
              "color": "#E5ECF6",
              "width": 0.5
             },
             "pattern": {
              "fillmode": "overlay",
              "size": 10,
              "solidity": 0.2
             }
            },
            "type": "bar"
           }
          ],
          "barpolar": [
           {
            "marker": {
             "line": {
              "color": "#E5ECF6",
              "width": 0.5
             },
             "pattern": {
              "fillmode": "overlay",
              "size": 10,
              "solidity": 0.2
             }
            },
            "type": "barpolar"
           }
          ],
          "carpet": [
           {
            "aaxis": {
             "endlinecolor": "#2a3f5f",
             "gridcolor": "white",
             "linecolor": "white",
             "minorgridcolor": "white",
             "startlinecolor": "#2a3f5f"
            },
            "baxis": {
             "endlinecolor": "#2a3f5f",
             "gridcolor": "white",
             "linecolor": "white",
             "minorgridcolor": "white",
             "startlinecolor": "#2a3f5f"
            },
            "type": "carpet"
           }
          ],
          "choropleth": [
           {
            "colorbar": {
             "outlinewidth": 0,
             "ticks": ""
            },
            "type": "choropleth"
           }
          ],
          "contour": [
           {
            "colorbar": {
             "outlinewidth": 0,
             "ticks": ""
            },
            "colorscale": [
             [
              0,
              "#0d0887"
             ],
             [
              0.1111111111111111,
              "#46039f"
             ],
             [
              0.2222222222222222,
              "#7201a8"
             ],
             [
              0.3333333333333333,
              "#9c179e"
             ],
             [
              0.4444444444444444,
              "#bd3786"
             ],
             [
              0.5555555555555556,
              "#d8576b"
             ],
             [
              0.6666666666666666,
              "#ed7953"
             ],
             [
              0.7777777777777778,
              "#fb9f3a"
             ],
             [
              0.8888888888888888,
              "#fdca26"
             ],
             [
              1,
              "#f0f921"
             ]
            ],
            "type": "contour"
           }
          ],
          "contourcarpet": [
           {
            "colorbar": {
             "outlinewidth": 0,
             "ticks": ""
            },
            "type": "contourcarpet"
           }
          ],
          "heatmap": [
           {
            "colorbar": {
             "outlinewidth": 0,
             "ticks": ""
            },
            "colorscale": [
             [
              0,
              "#0d0887"
             ],
             [
              0.1111111111111111,
              "#46039f"
             ],
             [
              0.2222222222222222,
              "#7201a8"
             ],
             [
              0.3333333333333333,
              "#9c179e"
             ],
             [
              0.4444444444444444,
              "#bd3786"
             ],
             [
              0.5555555555555556,
              "#d8576b"
             ],
             [
              0.6666666666666666,
              "#ed7953"
             ],
             [
              0.7777777777777778,
              "#fb9f3a"
             ],
             [
              0.8888888888888888,
              "#fdca26"
             ],
             [
              1,
              "#f0f921"
             ]
            ],
            "type": "heatmap"
           }
          ],
          "heatmapgl": [
           {
            "colorbar": {
             "outlinewidth": 0,
             "ticks": ""
            },
            "colorscale": [
             [
              0,
              "#0d0887"
             ],
             [
              0.1111111111111111,
              "#46039f"
             ],
             [
              0.2222222222222222,
              "#7201a8"
             ],
             [
              0.3333333333333333,
              "#9c179e"
             ],
             [
              0.4444444444444444,
              "#bd3786"
             ],
             [
              0.5555555555555556,
              "#d8576b"
             ],
             [
              0.6666666666666666,
              "#ed7953"
             ],
             [
              0.7777777777777778,
              "#fb9f3a"
             ],
             [
              0.8888888888888888,
              "#fdca26"
             ],
             [
              1,
              "#f0f921"
             ]
            ],
            "type": "heatmapgl"
           }
          ],
          "histogram": [
           {
            "marker": {
             "pattern": {
              "fillmode": "overlay",
              "size": 10,
              "solidity": 0.2
             }
            },
            "type": "histogram"
           }
          ],
          "histogram2d": [
           {
            "colorbar": {
             "outlinewidth": 0,
             "ticks": ""
            },
            "colorscale": [
             [
              0,
              "#0d0887"
             ],
             [
              0.1111111111111111,
              "#46039f"
             ],
             [
              0.2222222222222222,
              "#7201a8"
             ],
             [
              0.3333333333333333,
              "#9c179e"
             ],
             [
              0.4444444444444444,
              "#bd3786"
             ],
             [
              0.5555555555555556,
              "#d8576b"
             ],
             [
              0.6666666666666666,
              "#ed7953"
             ],
             [
              0.7777777777777778,
              "#fb9f3a"
             ],
             [
              0.8888888888888888,
              "#fdca26"
             ],
             [
              1,
              "#f0f921"
             ]
            ],
            "type": "histogram2d"
           }
          ],
          "histogram2dcontour": [
           {
            "colorbar": {
             "outlinewidth": 0,
             "ticks": ""
            },
            "colorscale": [
             [
              0,
              "#0d0887"
             ],
             [
              0.1111111111111111,
              "#46039f"
             ],
             [
              0.2222222222222222,
              "#7201a8"
             ],
             [
              0.3333333333333333,
              "#9c179e"
             ],
             [
              0.4444444444444444,
              "#bd3786"
             ],
             [
              0.5555555555555556,
              "#d8576b"
             ],
             [
              0.6666666666666666,
              "#ed7953"
             ],
             [
              0.7777777777777778,
              "#fb9f3a"
             ],
             [
              0.8888888888888888,
              "#fdca26"
             ],
             [
              1,
              "#f0f921"
             ]
            ],
            "type": "histogram2dcontour"
           }
          ],
          "mesh3d": [
           {
            "colorbar": {
             "outlinewidth": 0,
             "ticks": ""
            },
            "type": "mesh3d"
           }
          ],
          "parcoords": [
           {
            "line": {
             "colorbar": {
              "outlinewidth": 0,
              "ticks": ""
             }
            },
            "type": "parcoords"
           }
          ],
          "pie": [
           {
            "automargin": true,
            "type": "pie"
           }
          ],
          "scatter": [
           {
            "fillpattern": {
             "fillmode": "overlay",
             "size": 10,
             "solidity": 0.2
            },
            "type": "scatter"
           }
          ],
          "scatter3d": [
           {
            "line": {
             "colorbar": {
              "outlinewidth": 0,
              "ticks": ""
             }
            },
            "marker": {
             "colorbar": {
              "outlinewidth": 0,
              "ticks": ""
             }
            },
            "type": "scatter3d"
           }
          ],
          "scattercarpet": [
           {
            "marker": {
             "colorbar": {
              "outlinewidth": 0,
              "ticks": ""
             }
            },
            "type": "scattercarpet"
           }
          ],
          "scattergeo": [
           {
            "marker": {
             "colorbar": {
              "outlinewidth": 0,
              "ticks": ""
             }
            },
            "type": "scattergeo"
           }
          ],
          "scattergl": [
           {
            "marker": {
             "colorbar": {
              "outlinewidth": 0,
              "ticks": ""
             }
            },
            "type": "scattergl"
           }
          ],
          "scattermapbox": [
           {
            "marker": {
             "colorbar": {
              "outlinewidth": 0,
              "ticks": ""
             }
            },
            "type": "scattermapbox"
           }
          ],
          "scatterpolar": [
           {
            "marker": {
             "colorbar": {
              "outlinewidth": 0,
              "ticks": ""
             }
            },
            "type": "scatterpolar"
           }
          ],
          "scatterpolargl": [
           {
            "marker": {
             "colorbar": {
              "outlinewidth": 0,
              "ticks": ""
             }
            },
            "type": "scatterpolargl"
           }
          ],
          "scatterternary": [
           {
            "marker": {
             "colorbar": {
              "outlinewidth": 0,
              "ticks": ""
             }
            },
            "type": "scatterternary"
           }
          ],
          "surface": [
           {
            "colorbar": {
             "outlinewidth": 0,
             "ticks": ""
            },
            "colorscale": [
             [
              0,
              "#0d0887"
             ],
             [
              0.1111111111111111,
              "#46039f"
             ],
             [
              0.2222222222222222,
              "#7201a8"
             ],
             [
              0.3333333333333333,
              "#9c179e"
             ],
             [
              0.4444444444444444,
              "#bd3786"
             ],
             [
              0.5555555555555556,
              "#d8576b"
             ],
             [
              0.6666666666666666,
              "#ed7953"
             ],
             [
              0.7777777777777778,
              "#fb9f3a"
             ],
             [
              0.8888888888888888,
              "#fdca26"
             ],
             [
              1,
              "#f0f921"
             ]
            ],
            "type": "surface"
           }
          ],
          "table": [
           {
            "cells": {
             "fill": {
              "color": "#EBF0F8"
             },
             "line": {
              "color": "white"
             }
            },
            "header": {
             "fill": {
              "color": "#C8D4E3"
             },
             "line": {
              "color": "white"
             }
            },
            "type": "table"
           }
          ]
         },
         "layout": {
          "annotationdefaults": {
           "arrowcolor": "#2a3f5f",
           "arrowhead": 0,
           "arrowwidth": 1
          },
          "autotypenumbers": "strict",
          "coloraxis": {
           "colorbar": {
            "outlinewidth": 0,
            "ticks": ""
           }
          },
          "colorscale": {
           "diverging": [
            [
             0,
             "#8e0152"
            ],
            [
             0.1,
             "#c51b7d"
            ],
            [
             0.2,
             "#de77ae"
            ],
            [
             0.3,
             "#f1b6da"
            ],
            [
             0.4,
             "#fde0ef"
            ],
            [
             0.5,
             "#f7f7f7"
            ],
            [
             0.6,
             "#e6f5d0"
            ],
            [
             0.7,
             "#b8e186"
            ],
            [
             0.8,
             "#7fbc41"
            ],
            [
             0.9,
             "#4d9221"
            ],
            [
             1,
             "#276419"
            ]
           ],
           "sequential": [
            [
             0,
             "#0d0887"
            ],
            [
             0.1111111111111111,
             "#46039f"
            ],
            [
             0.2222222222222222,
             "#7201a8"
            ],
            [
             0.3333333333333333,
             "#9c179e"
            ],
            [
             0.4444444444444444,
             "#bd3786"
            ],
            [
             0.5555555555555556,
             "#d8576b"
            ],
            [
             0.6666666666666666,
             "#ed7953"
            ],
            [
             0.7777777777777778,
             "#fb9f3a"
            ],
            [
             0.8888888888888888,
             "#fdca26"
            ],
            [
             1,
             "#f0f921"
            ]
           ],
           "sequentialminus": [
            [
             0,
             "#0d0887"
            ],
            [
             0.1111111111111111,
             "#46039f"
            ],
            [
             0.2222222222222222,
             "#7201a8"
            ],
            [
             0.3333333333333333,
             "#9c179e"
            ],
            [
             0.4444444444444444,
             "#bd3786"
            ],
            [
             0.5555555555555556,
             "#d8576b"
            ],
            [
             0.6666666666666666,
             "#ed7953"
            ],
            [
             0.7777777777777778,
             "#fb9f3a"
            ],
            [
             0.8888888888888888,
             "#fdca26"
            ],
            [
             1,
             "#f0f921"
            ]
           ]
          },
          "colorway": [
           "#636efa",
           "#EF553B",
           "#00cc96",
           "#ab63fa",
           "#FFA15A",
           "#19d3f3",
           "#FF6692",
           "#B6E880",
           "#FF97FF",
           "#FECB52"
          ],
          "font": {
           "color": "#2a3f5f"
          },
          "geo": {
           "bgcolor": "white",
           "lakecolor": "white",
           "landcolor": "#E5ECF6",
           "showlakes": true,
           "showland": true,
           "subunitcolor": "white"
          },
          "hoverlabel": {
           "align": "left"
          },
          "hovermode": "closest",
          "mapbox": {
           "style": "light"
          },
          "paper_bgcolor": "white",
          "plot_bgcolor": "#E5ECF6",
          "polar": {
           "angularaxis": {
            "gridcolor": "white",
            "linecolor": "white",
            "ticks": ""
           },
           "bgcolor": "#E5ECF6",
           "radialaxis": {
            "gridcolor": "white",
            "linecolor": "white",
            "ticks": ""
           }
          },
          "scene": {
           "xaxis": {
            "backgroundcolor": "#E5ECF6",
            "gridcolor": "white",
            "gridwidth": 2,
            "linecolor": "white",
            "showbackground": true,
            "ticks": "",
            "zerolinecolor": "white"
           },
           "yaxis": {
            "backgroundcolor": "#E5ECF6",
            "gridcolor": "white",
            "gridwidth": 2,
            "linecolor": "white",
            "showbackground": true,
            "ticks": "",
            "zerolinecolor": "white"
           },
           "zaxis": {
            "backgroundcolor": "#E5ECF6",
            "gridcolor": "white",
            "gridwidth": 2,
            "linecolor": "white",
            "showbackground": true,
            "ticks": "",
            "zerolinecolor": "white"
           }
          },
          "shapedefaults": {
           "line": {
            "color": "#2a3f5f"
           }
          },
          "ternary": {
           "aaxis": {
            "gridcolor": "white",
            "linecolor": "white",
            "ticks": ""
           },
           "baxis": {
            "gridcolor": "white",
            "linecolor": "white",
            "ticks": ""
           },
           "bgcolor": "#E5ECF6",
           "caxis": {
            "gridcolor": "white",
            "linecolor": "white",
            "ticks": ""
           }
          },
          "title": {
           "x": 0.05
          },
          "xaxis": {
           "automargin": true,
           "gridcolor": "white",
           "linecolor": "white",
           "ticks": "",
           "title": {
            "standoff": 15
           },
           "zerolinecolor": "white",
           "zerolinewidth": 2
          },
          "yaxis": {
           "automargin": true,
           "gridcolor": "white",
           "linecolor": "white",
           "ticks": "",
           "title": {
            "standoff": 15
           },
           "zerolinecolor": "white",
           "zerolinewidth": 2
          }
         }
        },
        "title": {
         "text": "徳島市における品目別支出金額総計"
        },
        "xaxis": {
         "title": {
          "text": "品目"
         }
        },
        "yaxis": {
         "title": {
          "text": "総支出金額"
         }
        }
       }
      }
     },
     "metadata": {},
     "output_type": "display_data"
    }
   ],
   "source": [
    "# グラフのタイトルと軸ラベルを設定\n",
    "fig.update_layout(\n",
    "    title=\"徳島市における品目別支出金額総計\",\n",
    "    xaxis_title=\"品目\",\n",
    "    yaxis_title=\"総支出金額\",\n",
    ")\n",
    "\n",
    "# グラフを表示\n",
    "fig.show()"
   ]
  }
 ],
 "metadata": {
  "kernelspec": {
   "display_name": "Python 3 (ipykernel)",
   "language": "python",
   "name": "python3"
  },
  "language_info": {
   "codemirror_mode": {
    "name": "ipython",
    "version": 3
   },
   "file_extension": ".py",
   "mimetype": "text/x-python",
   "name": "python",
   "nbconvert_exporter": "python",
   "pygments_lexer": "ipython3",
   "version": "3.10.11"
  }
 },
 "nbformat": 4,
 "nbformat_minor": 4
}

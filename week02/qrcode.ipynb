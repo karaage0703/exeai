{
 "cells": [
  {
   "cell_type": "markdown",
   "id": "8797a086",
   "metadata": {},
   "source": [
    "## ウェブサイトのURLからQRコードを作成する"
   ]
  },
  {
   "cell_type": "markdown",
   "id": "89f367e2",
   "metadata": {},
   "source": [
    "まずはプログラムの実行に必要なPythonライブラリをインストールします。\n",
    "QRコードの作成には、qrcodeとpillowの2つのライブラリを使用します。\n",
    "pipコマンドでライブラリをインストールしましょう。"
   ]
  },
  {
   "cell_type": "markdown",
   "id": "566b84c2",
   "metadata": {},
   "source": [
    "Jupyternotebookでは、コードセルの行頭に `!` を付けた内容をコマンドとして処理します。\n",
    "すなわち、次のコードセルの内容はターミナルで `pip install qrcode[pil] pillow`を実行したときと同じです。\n",
    "\n",
    "なお、次のセルはコードセルではなくテキストセル扱いになっているので、実際にこのノートブック上でインストールを行う際はセルの種類を`Raw`から`Code`に変換する必要があります。"
   ]
  },
  {
   "cell_type": "raw",
   "id": "01b4281a-ce5e-450f-8c81-76e5e734cbd6",
   "metadata": {
    "tags": []
   },
   "source": [
    "! pip install qrcode[pil] pillow"
   ]
  },
  {
   "cell_type": "markdown",
   "id": "a21fd660",
   "metadata": {},
   "source": [
    "### 1つのURLからQRコードの生成"
   ]
  },
  {
   "cell_type": "markdown",
   "id": "0ca8782f",
   "metadata": {},
   "source": [
    "pipコマンドにより2つのライブラリのインストールが終わったらPythonでのQRコード生成を行います。\n",
    "さきほどインストールしたライブラリを `import`によって読み込みましょう。こうすることで`qrcode`や`Image`ライブラリの機能が利用可能となります。"
   ]
  },
  {
   "cell_type": "code",
   "execution_count": 1,
   "id": "633eb409",
   "metadata": {},
   "outputs": [],
   "source": [
    "# QRコードの生成に必要なライブラリを読み込む\n",
    "import qrcode\n",
    "from PIL import Image"
   ]
  },
  {
   "cell_type": "code",
   "execution_count": 2,
   "id": "baa89f5e",
   "metadata": {},
   "outputs": [],
   "source": [
    "# QRコードにエンコードするテキスト\n",
    "data = \"https://github.com/uribo/exeai\""
   ]
  },
  {
   "cell_type": "code",
   "execution_count": 3,
   "id": "fe94eb1f",
   "metadata": {},
   "outputs": [],
   "source": [
    "# QRコードの設定\n",
    "qr = qrcode.QRCode(\n",
    "    version=1,\n",
    "    error_correction=qrcode.constants.ERROR_CORRECT_L,\n",
    "    box_size=10,\n",
    "    border=4\n",
    ")"
   ]
  },
  {
   "cell_type": "code",
   "execution_count": 4,
   "id": "44cf3888",
   "metadata": {},
   "outputs": [],
   "source": [
    "# データをQRコードに追加\n",
    "qr.add_data(data)\n",
    "qr.make(fit=True)"
   ]
  },
  {
   "cell_type": "code",
   "execution_count": 5,
   "id": "764bc78c",
   "metadata": {},
   "outputs": [],
   "source": [
    "# QRコードを画像として生成\n",
    "img = qr.make_image(fill_color=\"black\", back_color=\"white\")\n",
    "\n",
    "# img.show()"
   ]
  },
  {
   "cell_type": "markdown",
   "id": "8d9f0aa1",
   "metadata": {},
   "source": [
    "これでQRコードの生成が完了しました。imgを出力して生成されたQRコードを確認しましょう。"
   ]
  },
  {
   "cell_type": "code",
   "execution_count": 6,
   "id": "6dad62c1",
   "metadata": {},
   "outputs": [
    {
     "data": {
      "image/png": "[encoded data removed]",
      "text/plain": [
       "<qrcode.image.pil.PilImage at 0x10345b5e0>"
      ]
     },
     "execution_count": 6,
     "metadata": {},
     "output_type": "execute_result"
    }
   ],
   "source": [
    "img"
   ]
  },
  {
   "cell_type": "code",
   "execution_count": 7,
   "id": "d5be5d97",
   "metadata": {},
   "outputs": [],
   "source": [
    "# 生成されたQRコード画像をファイルに保存\n",
    "img.save(\"qrcode.png\")"
   ]
  },
  {
   "cell_type": "markdown",
   "id": "7f326442",
   "metadata": {},
   "source": [
    "### 複数のURLからQRコードを生成"
   ]
  },
  {
   "cell_type": "markdown",
   "id": "f0625ba5",
   "metadata": {},
   "source": [
    "続いて複数のURLからQRコードを生成する場合を考えてみます。簡単なのは先ほどの処理の対象となるURLを変更し、何度か同じ処理を実行することですが、こうした繰り返しの処理はプログラミングの得意技です。\n",
    "\n",
    "`for`構文を使って繰り返しの出力を実現してみましょう。"
   ]
  },
  {
   "cell_type": "markdown",
   "id": "1c6322fc-6299-4a23-9a8c-bc22c62adc15",
   "metadata": {},
   "source": [
    "まず対象のURLを用意します。\n",
    "これらのURLは同じ処理（QRコードの生成）を行いたいため、`[`を使ってリストに格納します。"
   ]
  },
  {
   "cell_type": "code",
   "execution_count": 8,
   "id": "bcd192e2-fb1a-41c7-8c58-11986893afd5",
   "metadata": {},
   "outputs": [],
   "source": [
    "# 複数のURLをリストに格納\n",
    "urls = [\n",
    "    \"https://www.example.com/1\",\n",
    "    \"https://www.example.com/2\",\n",
    "    \"https://www.example.com/3\"\n",
    "]"
   ]
  },
  {
   "cell_type": "code",
   "execution_count": 9,
   "id": "fa0945aa-d2ee-46dc-a2f8-636e65b1d393",
   "metadata": {
    "tags": []
   },
   "outputs": [],
   "source": [
    "# 各URLに対してQRコードを生成し、ファイルに保存\n",
    "for index, url in enumerate(urls):\n",
    "    # QRコードの設定\n",
    "    qr = qrcode.QRCode(\n",
    "        version=1,\n",
    "        error_correction=qrcode.constants.ERROR_CORRECT_L,\n",
    "        box_size=10,\n",
    "        border=4,\n",
    "    )\n",
    "\n",
    "    # データをQRコードに追加\n",
    "    qr.add_data(url)\n",
    "    qr.make(fit=True)\n",
    "\n",
    "    # QRコードを画像として生成\n",
    "    img = qr.make_image(fill_color=\"black\", back_color=\"white\")\n",
    "\n",
    "    # 生成されたQRコード画像をファイルに保存（ファイル名は連番）\n",
    "    img.save(f\"qrcode_{index + 1}.png\")"
   ]
  },
  {
   "cell_type": "markdown",
   "id": "6dc13fb1-b02f-48f0-99cd-d6f56b919b10",
   "metadata": {},
   "source": [
    "上記のコードセルを実行すると、`qrcode_1.png`、`qrcode_2.png`、`qrcode_3.png`の3つの画像ファイルが生成されます。\n",
    "\n",
    "これらのファイルをノートブック上で表示するにはどうすればよいでしょうか。\n",
    "これも先ほど同様`for`構文を使って対処します。"
   ]
  },
  {
   "cell_type": "code",
   "execution_count": 10,
   "id": "d8408e97-946c-481c-bbc1-5614ea34bae9",
   "metadata": {
    "tags": []
   },
   "outputs": [
    {
     "name": "stdout",
     "output_type": "stream",
     "text": [
      "qrcode_1.png:\n"
     ]
    },
    {
     "data": {
      "image/png": "[encoded data removed]",
      "text/plain": [
       "<PIL.PngImagePlugin.PngImageFile image mode=1 size=330x330>"
      ]
     },
     "metadata": {},
     "output_type": "display_data"
    },
    {
     "name": "stdout",
     "output_type": "stream",
     "text": [
      "\n",
      "\n",
      "qrcode_2.png:\n"
     ]
    },
    {
     "data": {
      "image/png": "[encoded data removed]",
      "text/plain": [
       "<PIL.PngImagePlugin.PngImageFile image mode=1 size=330x330>"
      ]
     },
     "metadata": {},
     "output_type": "display_data"
    },
    {
     "name": "stdout",
     "output_type": "stream",
     "text": [
      "\n",
      "\n",
      "qrcode_3.png:\n"
     ]
    },
    {
     "data": {
      "image/png": "[encoded data removed]",
      "text/plain": [
       "<PIL.PngImagePlugin.PngImageFile image mode=1 size=330x330>"
      ]
     },
     "metadata": {},
     "output_type": "display_data"
    },
    {
     "name": "stdout",
     "output_type": "stream",
     "text": [
      "\n",
      "\n"
     ]
    }
   ],
   "source": [
    "# 画像ファイル名のリスト\n",
    "image_files = [\"qrcode_1.png\", \"qrcode_2.png\", \"qrcode_3.png\"]\n",
    "\n",
    "# 各画像ファイルを読み込んで表示\n",
    "for img_file in image_files:\n",
    "    img = Image.open(img_file)\n",
    "    print(f\"{img_file}:\")\n",
    "    display(img)\n",
    "    print(\"\\n\")"
   ]
  },
  {
   "cell_type": "code",
   "execution_count": null,
   "id": "a1ed44b8-fa25-4928-9dfb-1b79ececc424",
   "metadata": {},
   "outputs": [],
   "source": []
  }
 ],
 "metadata": {
  "kernelspec": {
   "display_name": "Python 3 (ipykernel)",
   "language": "python",
   "name": "python3"
  },
  "language_info": {
   "codemirror_mode": {
    "name": "ipython",
    "version": 3
   },
   "file_extension": ".py",
   "mimetype": "text/x-python",
   "name": "python",
   "nbconvert_exporter": "python",
   "pygments_lexer": "ipython3",
   "version": "3.10.11"
  }
 },
 "nbformat": 4,
 "nbformat_minor": 5
}

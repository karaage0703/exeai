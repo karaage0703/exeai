{
 "cells": [
  {
   "cell_type": "raw",
   "id": "e8c79db6",
   "metadata": {},
   "source": [
    "---\n",
    "title: Jupyter Notebook\n",
    "execute:\n",
    "  keep-ipynb: true\n",
    "---"
   ]
  },
  {
   "cell_type": "markdown",
   "id": "4c64f82c",
   "metadata": {},
   "source": [
    "## ローカル実行\n",
    "\n",
    "### Windows\n",
    "\n",
    "### macOS\n",
    "\n",
    "## リモート実行環境\n",
    "\n",
    "### Google Colaboratory (Colab)\n",
    "\n",
    "### SageMaker Studio"
   ]
  }
 ],
 "metadata": {
  "jupytext": {
   "formats": "ipynb,qmd",
   "text_representation": {
    "extension": ".qmd",
    "format_name": "quarto",
    "format_version": "1.0",
    "jupytext_version": "1.14.5"
   }
  },
  "kernelspec": {
   "display_name": "Python 3 (ipykernel)",
   "language": "python",
   "name": "python3"
  },
  "language_info": {
   "codemirror_mode": {
    "name": "ipython",
    "version": 3
   },
   "file_extension": ".py",
   "mimetype": "text/x-python",
   "name": "python",
   "nbconvert_exporter": "python",
   "pygments_lexer": "ipython3",
   "version": "3.10.11"
  }
 },
 "nbformat": 4,
 "nbformat_minor": 5
}

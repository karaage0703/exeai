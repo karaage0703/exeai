{
 "cells": [
  {
   "cell_type": "markdown",
   "id": "8797a086",
   "metadata": {},
   "source": [
    "ウェブサイトのURLからQRコードを作成する"
   ]
  },
  {
   "cell_type": "code",
   "execution_count": 1,
   "id": "96663d02",
   "metadata": {},
   "outputs": [
    {
     "name": "stdout",
     "output_type": "stream",
     "text": [
      "Collecting qrcode[pil]\n",
      "  Using cached qrcode-7.4.2-py3-none-any.whl (46 kB)\n",
      "Requirement already satisfied: pillow in /opt/conda/lib/python3.10/site-packages (9.2.0)\n",
      "Collecting pypng\n",
      "  Using cached pypng-0.20220715.0-py3-none-any.whl (58 kB)\n",
      "Requirement already satisfied: typing-extensions in /opt/conda/lib/python3.10/site-packages (from qrcode[pil]) (4.3.0)\n",
      "Installing collected packages: pypng, qrcode\n",
      "Successfully installed pypng-0.20220715.0 qrcode-7.4.2\n"
     ]
    }
   ],
   "source": [
    "! pip install qrcode[pil] pillow"
   ]
  },
  {
   "cell_type": "code",
   "execution_count": 2,
   "id": "633eb409",
   "metadata": {},
   "outputs": [],
   "source": [
    "# QRコードの生成に必要なライブラリを読み込む\n",
    "import qrcode\n",
    "from PIL import Image"
   ]
  },
  {
   "cell_type": "code",
   "execution_count": 3,
   "id": "baa89f5e",
   "metadata": {},
   "outputs": [],
   "source": [
    "# QRコードにエンコードするテキスト\n",
    "data = \"https://github.com/uribo/exeai\""
   ]
  },
  {
   "cell_type": "code",
   "execution_count": 4,
   "id": "fe94eb1f",
   "metadata": {},
   "outputs": [],
   "source": [
    "# QRコードの設定\n",
    "qr = qrcode.QRCode(\n",
    "    version=1,\n",
    "    error_correction=qrcode.constants.ERROR_CORRECT_L,\n",
    "    box_size=10,\n",
    "    border=4\n",
    ")"
   ]
  },
  {
   "cell_type": "code",
   "execution_count": 5,
   "id": "44cf3888",
   "metadata": {},
   "outputs": [],
   "source": [
    "# データをQRコードに追加\n",
    "qr.add_data(data)\n",
    "qr.make(fit=True)"
   ]
  },
  {
   "cell_type": "code",
   "execution_count": 6,
   "id": "764bc78c",
   "metadata": {},
   "outputs": [],
   "source": [
    "# QRコードを画像として生成\n",
    "img = qr.make_image(fill_color=\"black\", back_color=\"white\")\n",
    "\n",
    "# img.show()"
   ]
  },
  {
   "cell_type": "code",
   "execution_count": 7,
   "id": "6dad62c1",
   "metadata": {},
   "outputs": [
    {
     "data": {
      "image/png": "[encoded data removed]",
      "text/plain": [
       "<qrcode.image.pil.PilImage at 0x7fb45f59f2b0>"
      ]
     },
     "execution_count": 7,
     "metadata": {},
     "output_type": "execute_result"
    }
   ],
   "source": [
    "img"
   ]
  },
  {
   "cell_type": "code",
   "execution_count": 8,
   "id": "d5be5d97",
   "metadata": {},
   "outputs": [],
   "source": [
    "# 生成されたQRコード画像をファイルに保存\n",
    "img.save(\"qrcode.png\")"
   ]
  },
  {
   "cell_type": "code",
   "execution_count": null,
   "id": "a89e6822-60ff-4ae4-b4ee-9b236b112d2e",
   "metadata": {},
   "outputs": [],
   "source": []
  }
 ],
 "metadata": {
  "kernelspec": {
   "display_name": "Python 3 (ipykernel)",
   "language": "python",
   "name": "python3"
  },
  "language_info": {
   "codemirror_mode": {
    "name": "ipython",
    "version": 3
   },
   "file_extension": ".py",
   "mimetype": "text/x-python",
   "name": "python",
   "nbconvert_exporter": "python",
   "pygments_lexer": "ipython3",
   "version": "3.10.6"
  }
 },
 "nbformat": 4,
 "nbformat_minor": 5
}

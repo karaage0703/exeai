{
 "cells": [
  {
   "attachments": {},
   "cell_type": "markdown",
   "id": "1e3ac3a7-7ff0-4371-a7bd-82515eb85eca",
   "metadata": {},
   "source": [
    "$\\underline{不正解の件数：\\hspace{3em}}$\n",
    "\n",
    "## accuracy\n",
    "\n",
    "真の値に対してモデルが一致した割合"
   ]
  },
  {
   "cell_type": "code",
   "execution_count": null,
   "id": "369b1f1e-eb4e-42f6-9790-2d0071e9c90c",
   "metadata": {},
   "outputs": [],
   "source": [
    "# 20はテストデータの件数\n",
    "\n",
    "# (20 - 不正解の件数) / 20"
   ]
  },
  {
   "attachments": {},
   "cell_type": "markdown",
   "id": "05a81b45-bf86-4bb7-805c-2301f8d2a631",
   "metadata": {},
   "source": [
    "## precision\n",
    "\n",
    "正と予測したデータのうち、実際に正であるものの割合\n",
    "\n",
    "$TP / (TP + FP)$"
   ]
  },
  {
   "cell_type": "code",
   "execution_count": null,
   "id": "e74a6ae1-388f-47f6-af76-746d21c70bc8",
   "metadata": {},
   "outputs": [],
   "source": []
  },
  {
   "attachments": {},
   "cell_type": "markdown",
   "id": "79509171-9370-4a05-b808-40efa364b480",
   "metadata": {},
   "source": [
    "# recall\n",
    "\n",
    "実際に正であるもののうち、正であると予測されたものの割合\n",
    "\n",
    "$TP / (TP + FN)$"
   ]
  },
  {
   "cell_type": "code",
   "execution_count": null,
   "id": "b6ee8889-e9bb-4cd4-99ba-89fda1e477d3",
   "metadata": {},
   "outputs": [],
   "source": []
  }
 ],
 "metadata": {
  "kernelspec": {
   "display_name": "Python 3 (ipykernel)",
   "language": "python",
   "name": "python3"
  },
  "language_info": {
   "codemirror_mode": {
    "name": "ipython",
    "version": 3
   },
   "file_extension": ".py",
   "mimetype": "text/x-python",
   "name": "python",
   "nbconvert_exporter": "python",
   "pygments_lexer": "ipython3",
   "version": "3.10.8"
  }
 },
 "nbformat": 4,
 "nbformat_minor": 5
}

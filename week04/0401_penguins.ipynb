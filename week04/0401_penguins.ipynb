{
 "cells": [
  {
   "cell_type": "raw",
   "id": "0938683b",
   "metadata": {},
   "source": [
    "---\n",
    "title: 南極大陸に生育するペンギンの体長データ\n",
    "format: html\n",
    "execute:\n",
    "  keep-ipynb: true\n",
    "---"
   ]
  },
  {
   "cell_type": "markdown",
   "id": "35f8e82c",
   "metadata": {},
   "source": [
    "今週は教師あり学習の例として、ペンギンの種類を分類する問題を扱います。機械学習モデルの構築を行う前に対象のデータについて理解を深めることは重要です。まずはデータの読み込みから可視化までの処理を通して、データの中身を確認していきましょう。\n",
    "\n",
    "必要なライブラリをインポートします。ここでは次のライブラリを使用します。\n",
    "\n",
    "- seaborn: データの可視化\n",
    "- matplotlib: データの可視化\n",
    "- pandas: データフレームへの操作"
   ]
  },
  {
   "cell_type": "code",
   "execution_count": null,
   "id": "087d89ef",
   "metadata": {},
   "outputs": [],
   "source": [
    "import matplotlib.pyplot as plt\n",
    "import pandas as pd\n",
    "import seaborn as sns"
   ]
  },
  {
   "cell_type": "markdown",
   "id": "8d1e1f02",
   "metadata": {},
   "source": [
    "## ペンギンデータ\n",
    "\n",
    "機械学習による分類問題の例として、南極大陸に生育するペンギンの体長についての観測データを利用します。このデータを使ってペンギンの種類を分類するモデルを構築します。\n",
    "\n",
    "### データの読み込み\n",
    "\n",
    "ペンギンデータは`seaborn`ライブラリに含まれています。データを利用するには`load_dataset()`関数で読み込みます。"
   ]
  },
  {
   "cell_type": "code",
   "execution_count": null,
   "id": "9f56ee2c",
   "metadata": {},
   "outputs": [],
   "source": [
    "# ペンギンデータの読み込み\n",
    "penguins = sns.load_dataset(\"penguins\")\n",
    "\n",
    "# pandasのDataFrameとして格納されている\n",
    "# type(penguins)"
   ]
  },
  {
   "cell_type": "markdown",
   "id": "2fb2d461",
   "metadata": {},
   "source": [
    "### データの確認\n",
    "\n",
    "ペンギンデータの中身を確認します。データについて理解を深めるためのいくつかの処理を行ってみましょう。まずはデータフレームオブジェクトの属性の一つ、`shape`を使うと、行数と列数を確認できます。"
   ]
  },
  {
   "cell_type": "code",
   "execution_count": null,
   "id": "359f5bff",
   "metadata": {},
   "outputs": [],
   "source": [
    "penguins.shape\n",
    "\n",
    "# 以下のコードの実行はエラーとなる\n",
    "# 理由はshapeがデータフレームの属性であるのに対して、\n",
    "# shape()はメソッド（関数）であるため\n",
    "# penguins.shepe()"
   ]
  },
  {
   "cell_type": "markdown",
   "id": "01dbb18b",
   "metadata": {},
   "source": [
    "以下の例では、いくつかのpandasのデータフレーム関数を使って、データの概要を確認しています。これらは関数として実行するため、末尾に括弧を付けています。"
   ]
  },
  {
   "cell_type": "code",
   "execution_count": null,
   "id": "5ff7ef01",
   "metadata": {},
   "outputs": [],
   "source": [
    "# データフレームの概要\n",
    "# 各列（変数）の名前（Column）、欠損値の件数（Non-Null Count）、データ型(Dtype)を表示\n",
    "penguins.info()"
   ]
  },
  {
   "cell_type": "markdown",
   "id": "37a9a943",
   "metadata": {},
   "source": [
    "いくつの変数に欠損値があるようです。欠損値の有無は機械学習モデルを実行する際に影響を及ぼす可能性があります。ここでは欠損値への処理を行いませんが、ペンギンデータに欠損値が含まれるということを覚えておきましょう。\n",
    "\n",
    "つづいて具体的なデータの中身を確認します。`head()`関数を使うと、データの先頭から引数で指定した行数を表示できます。`tail()`関数はデータの末尾から指定した行数を表示するのに利用します。"
   ]
  },
  {
   "cell_type": "code",
   "execution_count": null,
   "id": "70fa0044",
   "metadata": {},
   "outputs": [],
   "source": [
    "# 先頭5行の表示\n",
    "penguins.head(5)\n",
    "\n",
    "# 末尾3行の表示\n",
    "# penguins.tail(3)"
   ]
  },
  {
   "cell_type": "markdown",
   "id": "f565be6f",
   "metadata": {},
   "source": [
    "ここでペンギンデータの変数をまとめておきましょう。このデータには次の変数が含まれます。\n",
    "\n",
    "- `species`: ペンギンの種名。次の3種が含まれます。Adelie（アデリーペンギン）、Chinstrap（ヒゲペンギン）、Gentoo（ジェンツーペンギン）。\n",
    "- `island`: ペンギンが生息する島の名前。次の3つの島が含まれます。Biscoe、Dream、Torgersen。\n",
    "- `bill_length_mm`: くちばしの長さ（単位: mm）。\n",
    "- `bill_depth_mm`: くちばしの深さ（単位: mm）。くちばしの高さとも言えます。\n",
    "- `flipper_length_mm`: 翼の長さ（単位: mm）。ペンギンの場合はひれの長さとも言えます。\n",
    "- `body_mass_g`: 体重（単位: g）。\n",
    "- `sex`: 性別。Male（オス）、Female（メス）の2種類。\n",
    "\n",
    "分類対象として扱うペンギンの種名について、詳しく調べます。次のコードでそれぞれの種名のデータが何件含まれるかを確認します。"
   ]
  },
  {
   "cell_type": "code",
   "execution_count": null,
   "id": "f7ce24d9",
   "metadata": {},
   "outputs": [],
   "source": [
    "print(\"ペンギンの種類: \", penguins[\"species\"].unique())\n",
    "\n",
    "penguins.groupby(\"species\").size().reset_index(name=\"count\")"
   ]
  },
  {
   "cell_type": "markdown",
   "id": "d61304cd",
   "metadata": {},
   "source": [
    "### 統計量\n",
    "\n",
    "pandasの`describe()`関数を使うと、平均値や標準偏差、最小値・最大値といった複数の統計量を一度に確認できます。"
   ]
  },
  {
   "cell_type": "code",
   "execution_count": null,
   "id": "597f9b84",
   "metadata": {},
   "outputs": [],
   "source": [
    "# ペンギンデータの統計量の表示\n",
    "penguins.describe()"
   ]
  },
  {
   "cell_type": "markdown",
   "id": "14f229e0",
   "metadata": {},
   "source": [
    "`describe()`関数が対象とするのはデータフレームの数値データです。`species`や`island`のような文字列データは対象となりません。理由は文字列データは平均値（`mean`）や標準偏差（`std`）などの統計量に意味がないためです[^1]。しかし最頻値（`top`）や最頻値の出現回数（`freq`）は計算できます。`describe()`関数のデフォルトでは数値データのみが対象となりますが、引数で`include=\"all\"`を指定することで文字列データも対象となります。\n",
    "\n",
    "[^1]: 文字列データは数値データとは異なるため、算術平均を計算することはできません。そのため、平均値や標準偏差などの統計量の出力は`NaN`(Not a Number)として表示されます。一方で数値データは文字列データとは異なり、最頻値を計算することはできません。そのため、最頻値の出力は`NaN`として表示されます。"
   ]
  },
  {
   "cell_type": "code",
   "execution_count": null,
   "id": "7cc355df",
   "metadata": {},
   "outputs": [],
   "source": [
    "# 文字列の変数も含めた統計量の表示\n",
    "penguins.describe(include=\"all\")"
   ]
  },
  {
   "cell_type": "markdown",
   "id": "bcb8e35e",
   "metadata": {},
   "source": [
    "#### 相関係数\n",
    "\n",
    "次にペンギンデータの変数間の相関関係を`corr()`関数で確認します。相関係数は数値データに対してのみ計算されるため、カテゴリ変数である`species`や`island`は除外しておきます。さらに、相関係数は欠損値がある場合、適切な値を計算できないため、欠損値を含む行を削除しておきます。"
   ]
  },
  {
   "cell_type": "code",
   "execution_count": null,
   "id": "310312df",
   "metadata": {},
   "outputs": [],
   "source": [
    "# 欠損値を含む行を削除\n",
    "penguins_mod = penguins.dropna()\n",
    "\n",
    "# カテゴリ変数を含まないデータフレームを作成\n",
    "penguins_numeric = penguins_mod.drop(columns=[\"species\", \"island\", \"sex\"])\n",
    "\n",
    "# 相関係数の計算\n",
    "correlation_matrix = penguins_numeric.corr()\n",
    "\n",
    "# 相関係数の表示\n",
    "correlation_matrix"
   ]
  },
  {
   "cell_type": "markdown",
   "id": "d50ae640",
   "metadata": {},
   "source": [
    "相関係数は0から1の間の値となり、絶対値が大きいほど強い相関関係があることを示します。そのため自分自身との相関係数は1となります。符号が正のとき、2つの変数は正の相関関係にあります。つまり、片方の変数が増加すると、もう片方の変数も増加する傾向にあることを示します。一方符号が負のとき、2つの変数は負の相関関係にあります。これは片方の変数が増加すると、もう片方の変数は減少する傾向にあることを意味します。\n",
    "\n",
    "### データの可視化\n",
    "\n",
    "さらにデータへの理解を深めるために、グラフ上にペンギンデータを表現してみます。データ可視化によって、細かな傾向や全体的な特徴を発見することにつながる可能性があります。\n",
    "\n",
    "#### 散布図"
   ]
  },
  {
   "cell_type": "code",
   "execution_count": null,
   "id": "f0fe78d3",
   "metadata": {},
   "outputs": [],
   "source": [
    "# seabornを使った散布図の作成\n",
    "sns.scatterplot(\n",
    "    data=penguins,\n",
    "    x=\"bill_length_mm\",\n",
    "    y=\"bill_depth_mm\",\n",
    "    # 塗り分けの変数の指定\n",
    "    hue=\"species\",\n",
    ")\n",
    "plt.show()"
   ]
  },
  {
   "cell_type": "markdown",
   "id": "fb1b109e",
   "metadata": {},
   "source": [
    "複数の変数の組み合わせについて散布図を作成するには、seabornの`pairplot()`関数を利用します。"
   ]
  },
  {
   "cell_type": "code",
   "execution_count": null,
   "id": "32b2ea2c",
   "metadata": {},
   "outputs": [],
   "source": [
    "sns.pairplot(penguins, hue=\"species\")\n",
    "plt.show()"
   ]
  },
  {
   "cell_type": "markdown",
   "id": "f9818c1f",
   "metadata": {},
   "source": [
    "`pairplot()`関数はデータフレームの数値データの組み合わせについて散布図を作成します。`body_mass_g`と`body_mass_g`のように、自分自身との組み合わせについてはヒストグラムを描画します。`pairplot()`の出力のような変数の組み合わせに対応する散布図とヒストグラムなどをひとまとめにしたものを散布図行列と呼びます。\n",
    "\n",
    "#### 箱ひげ図\n",
    "\n",
    "ペンギンデータの数値変数の分布を箱ひげ図を用いて確認します。箱ひげ図はseabornの`boxplot()`関数を使って作成します。"
   ]
  },
  {
   "cell_type": "code",
   "execution_count": null,
   "id": "ab8e6b60",
   "metadata": {},
   "outputs": [],
   "source": [
    "fig, axes = plt.subplots(1, 2, figsize=(12, 5))\n",
    "sns.boxplot(x=\"species\", y=\"bill_length_mm\", data=penguins, ax=axes[0])\n",
    "sns.boxplot(x=\"species\", y=\"bill_depth_mm\", data=penguins, ax=axes[1])\n",
    "plt.show()"
   ]
  },
  {
   "cell_type": "markdown",
   "id": "43937611",
   "metadata": {},
   "source": [
    "::: {.callout-note}\n",
    "- 同様に`flipper_length_mm`と`body_mass_g`についても箱ひげ図を作成しましょう。\n",
    "\n",
    "- ここで示した散布図、箱ひげ図のほかのデータ可視化方法を調べて実行してみましょう。\n",
    ":::"
   ]
  }
 ],
 "metadata": {
  "jupytext": {
   "formats": "ipynb,qmd"
  },
  "kernelspec": {
   "display_name": "Python 3 (ipykernel)",
   "language": "python",
   "name": "python3"
  },
  "language_info": {
   "codemirror_mode": {
    "name": "ipython",
    "version": 3
   },
   "file_extension": ".py",
   "mimetype": "text/x-python",
   "name": "python",
   "nbconvert_exporter": "python",
   "pygments_lexer": "ipython3",
   "version": "3.10.11"
  }
 },
 "nbformat": 4,
 "nbformat_minor": 5
}

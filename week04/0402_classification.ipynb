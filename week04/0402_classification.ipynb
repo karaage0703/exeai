{
 "cells": [
  {
   "cell_type": "raw",
   "id": "245af372",
   "metadata": {},
   "source": [
    "---\n",
    "title: ペンギンデータの分類に挑戦\n",
    "format: html\n",
    "execute:\n",
    "  keep-ipynb: true\n",
    "---"
   ]
  },
  {
   "cell_type": "markdown",
   "id": "2ac9a73d",
   "metadata": {},
   "source": [
    "[0401_penquins.ipynb](0401_penquins.ipynb)では、ペンギンデータを可視化し、データの特徴を把握しました。このデータを使って、ペンギンの種類を分類する機械学習モデルを構築しましょう。\n",
    "\n",
    "PythonのScikit-learnライブラリには機械学習モデルの構築から評価に必要な機能が含まれています。そのため今回はScikit-learnライブラリを使ってペンギンデータを分類する機械学習モデルを構築します。"
   ]
  },
  {
   "cell_type": "code",
   "execution_count": null,
   "id": "4dcab7d0",
   "metadata": {},
   "outputs": [],
   "source": [
    "#| eval: true\n",
    "#| echo: false\n",
    "from IPython.display import Markdown, display"
   ]
  },
  {
   "cell_type": "code",
   "execution_count": null,
   "id": "27807d97",
   "metadata": {},
   "outputs": [],
   "source": [
    "import matplotlib.pyplot as plt\n",
    "import numpy as np\n",
    "import pandas as pd\n",
    "import seaborn as sns\n",
    "\n",
    "# scikit-learnのライブラリ\n",
    "from sklearn.linear_model import LogisticRegression\n",
    "from sklearn.preprocessing import LabelEncoder, StandardScaler\n",
    "from sklearn.model_selection import train_test_split\n",
    "from sklearn.metrics import (\n",
    "    ConfusionMatrixDisplay,\n",
    "    accuracy_score,\n",
    "    classification_report,\n",
    "    confusion_matrix,\n",
    ")"
   ]
  },
  {
   "cell_type": "code",
   "execution_count": null,
   "id": "7a2ccb16",
   "metadata": {},
   "outputs": [],
   "source": [
    "penguins = sns.load_dataset(\"penguins\")"
   ]
  },
  {
   "cell_type": "markdown",
   "id": "6efa5faa",
   "metadata": {},
   "source": [
    "## scikit-learnを使った機械学習モデルの構築\n",
    "\n",
    "ペンギンデータをロジスティック回帰モデルによって分類します。\n",
    "\n",
    "### 前処理\n",
    "\n",
    "具体的には欠損値への対応とラベルエンコーディングを実行します。\n",
    "\n",
    "ロジスティック回帰など、いくつかの機械学習モデルは欠損値を含むデータを直接扱うことができません。そのため、欠損値を含む行を削除するか、欠損値を別の値に置き換える必要があります。今回はpandasの`dropna()`関数で欠損値を含む行を削除します。"
   ]
  },
  {
   "cell_type": "code",
   "execution_count": null,
   "id": "7f0b5abc",
   "metadata": {},
   "outputs": [],
   "source": [
    "#| label: 前処理その1\n",
    "\n",
    "# 1/2 欠損値を含む行を削除\n",
    "penguins.dropna(inplace=True)  # 元のデータフレームを書き換える場合、inplace=Trueを指定する\n",
    "\n",
    "# 11行削除されていることを確認\n",
    "penguins.shape"
   ]
  },
  {
   "cell_type": "markdown",
   "id": "65262f92",
   "metadata": {},
   "source": [
    "続いてラベルエンコーディングを適用します。ラベルエンコーディングとは、カテゴリ変数を数値に変換する処理です。例えば、`species`列の値Adelie、Chinstrap、Gentooをそれぞれ0, 1, 2に変換します。機械学習モデルは数値データを扱うため、カテゴリ変数を数値に変換する必要があります。ペンギンデータの場合、`species`の他に`island`や`sex`列もカテゴリ変数なのでラベルエンコーディングを適用対象となります。ラベルエンコーディングはscikit-learnの`LabelEncoder`クラスを使って実行します。"
   ]
  },
  {
   "cell_type": "code",
   "execution_count": null,
   "id": "43cafe76",
   "metadata": {},
   "outputs": [],
   "source": [
    "#| label: 前処理その2\n",
    "# 2/2 ラベルエンコーディング\n",
    "# LabelEncoderクラスのインスタンスを作成\n",
    "le = LabelEncoder()\n",
    "# 以下のコードの実行で、species列の値Adelie、Chinstrap、Gentooがそれぞれ0, 1, 2に変換される\n",
    "penguins[\"species\"] = le.fit_transform(penguins[\"species\"])\n",
    "# island列とsex列についても同様にラベルエンコーディングを実行\n",
    "penguins[\"island\"] = le.fit_transform(penguins[\"island\"])\n",
    "penguins[\"sex\"] = le.fit_transform(penguins[\"sex\"])\n",
    "\n",
    "\n",
    "# 前処理を行ったデータを表示\n",
    "# ラベルエンコーディングが適用された3列に注目\n",
    "penguins"
   ]
  },
  {
   "cell_type": "markdown",
   "id": "c49961fb",
   "metadata": {},
   "source": [
    "| 元の値 | ラベルエンコーディング後の値 |\n",
    "|-------|-------------------------|\n",
    "| Adele | 0 |\n",
    "| Chinstrap | 1 |\n",
    "| Gentoo | 2 |\n",
    "\n",
    "### データ分割\n",
    "\n",
    "- 訓練データ: モデルの学習に用いるデータ。モデルはこのデータの特徴を学習し、テストデータに対する予測を行うためのパラメータを決定する。\n",
    "- テストデータ: モデルの予測精度を評価するためのデータ。モデルの学習には用いられない。"
   ]
  },
  {
   "cell_type": "code",
   "execution_count": null,
   "id": "21668fb0",
   "metadata": {},
   "outputs": [],
   "source": [
    "# 目的変数をspecies列、説明変数をspecies列以外の列とする\n",
    "# X... 説明変数のみからなるデータフレーム\n",
    "# y... 目的変数のみからなるデータフレーム\n",
    "X = penguins.drop(columns=\"species\")\n",
    "y = penguins[\"species\"]\n",
    "\n",
    "# 訓練データとテストデータに分割\n",
    "# test_sizeでテストデータの割合を指定する。ここでは全体の20%をテストデータとする（80%を訓練データとする）\n",
    "# random_stateは乱数のシードを指定する引数。この値を変更すると結果が変わるので注意\n",
    "X_train, X_test, y_train, y_test = train_test_split(\n",
    "    X, y, test_size=0.2, random_state=20230508\n",
    ")"
   ]
  },
  {
   "cell_type": "markdown",
   "id": "e7719458",
   "metadata": {},
   "source": [
    "### モデルの構築\n",
    "\n",
    "sklearn.linear_modelモジュールのLogisticRegressionを使ってロジスティック回帰モデルを構築します。"
   ]
  },
  {
   "cell_type": "code",
   "execution_count": null,
   "id": "421cc619",
   "metadata": {},
   "outputs": [],
   "source": [
    "# ロジスティック回帰モデルを適用し、モデルを訓練\n",
    "# max_iter引数でパラメータ探索のための試行回数を設定（デフォルトでは100）\n",
    "lr = LogisticRegression(max_iter=1000)\n",
    "# 訓練データを使ってモデルを訓練\n",
    "lr.fit(X_train, y_train)"
   ]
  },
  {
   "cell_type": "markdown",
   "id": "4a233fc6",
   "metadata": {},
   "source": [
    "### モデルの予測\n",
    "\n",
    "構築したモデルに対して、テストデータを使って予測を行います。`lr.predict(X_test)`を実行すると、テストデータに対する予測結果が得られます。"
   ]
  },
  {
   "cell_type": "code",
   "execution_count": null,
   "id": "309e9cd8",
   "metadata": {},
   "outputs": [],
   "source": [
    "# テストデータを使って予測を行う\n",
    "y_pred = lr.predict(X_test)\n",
    "\n",
    "# 予測結果は配列で格納されている\n",
    "y_pred"
   ]
  },
  {
   "cell_type": "markdown",
   "id": "f827980c",
   "metadata": {},
   "source": [
    "ロジスティック回帰モデルでは、各クラス（ここではペンギンの種名）に属する確率を出力することもできます。構築したモデルのインスタンスと`predict_proba()`関数を実行すると、各データポイントに対するクラスの所属確率を配列として取得できます。"
   ]
  },
  {
   "cell_type": "code",
   "execution_count": null,
   "id": "93cadf80",
   "metadata": {},
   "outputs": [],
   "source": [
    "# テストデータがどのクラスに属するかの確率を出力\n",
    "probabilities = lr.predict_proba(X_test)"
   ]
  },
  {
   "cell_type": "markdown",
   "id": "6811da32",
   "metadata": {},
   "source": [
    "ペンギンの種名は3つのクラスに分類されるので、`predict_proba()`関数の出力は3列の配列となります。各データポイントに対して、それぞれのクラスに属する確率が出力されています。このうち、最も確率が高いクラスが予測結果となります。"
   ]
  },
  {
   "cell_type": "code",
   "execution_count": null,
   "id": "f1db2707",
   "metadata": {},
   "outputs": [],
   "source": [
    "# テストデータの一件目のデータポイントに対するクラス別の所属確率\n",
    "# 表示を見やすくするために、小数点以下4桁まで表示するように設定\n",
    "np.set_printoptions(suppress=True, formatter={\"float\": \"{:.4f}\".format})\n",
    "print(probabilities[0])"
   ]
  },
  {
   "cell_type": "code",
   "execution_count": null,
   "id": "d16da841",
   "metadata": {},
   "outputs": [],
   "source": [
    "# 実際の予測結果\n",
    "y_pred[0]"
   ]
  },
  {
   "cell_type": "markdown",
   "id": "e57ca2cc",
   "metadata": {},
   "source": [
    "## モデルの評価"
   ]
  },
  {
   "cell_type": "code",
   "execution_count": null,
   "id": "deb90eb5",
   "metadata": {},
   "outputs": [],
   "source": [
    "# 真の値であるy_testと予測値のy_predを比較して2つの値がどの程度一致しているかを確認する\n",
    "# y_testをデータフレームに変換\n",
    "y_test_df = pd.DataFrame(y_test)\n",
    "# y_predをデータフレームに変換\n",
    "y_pred_df = pd.DataFrame(y_pred, columns=[\"predicted\"], index=y_test.index)\n",
    "\n",
    "# y_testとy_predのデータフレームを結合\n",
    "comparison_df = pd.concat([y_test_df, y_pred_df], axis=1)\n",
    "\n",
    "# speciesとpredictedが一致しているかどうかを確認\n",
    "comparison_df[\"correct\"] = comparison_df[\"species\"] == comparison_df[\"predicted\"]\n",
    "\n",
    "# TrueとFalseの数をカウント\n",
    "comparison_df.groupby(\"correct\").size().reset_index(name=\"count\")"
   ]
  },
  {
   "cell_type": "code",
   "execution_count": null,
   "id": "296abc10",
   "metadata": {},
   "outputs": [],
   "source": [
    "#| echo: false\n",
    "predict_match = (\n",
    "    comparison_df.groupby(\"correct\").size().reset_index(name=\"count\")[\"count\"][1]\n",
    ")\n",
    "display(\n",
    "    Markdown(\n",
    "        \"\"\"\n",
    "一致した件数は {predict_match}/{total_n}件です。これは、モデルが正しく予測できたデータの割合が約98%であることを意味します。\n",
    "\"\"\".format(\n",
    "            predict_match=predict_match, total_n=len(comparison_df)\n",
    "        )\n",
    "    )\n",
    ")"
   ]
  },
  {
   "cell_type": "markdown",
   "id": "2c7be034",
   "metadata": {},
   "source": [
    "scikit-learnには、モデルの評価を行うための様々な関数が用意されています。ここでは、sklearn.metricsモジュールの関数を使ってモデルの評価を行います。\n",
    "\n",
    "`accuracy_score()`関数は、正解率を計算する関数です。正解率は、正しく予測できたデータの割合を表します。この値は先ほど確認した正解率と一致します。"
   ]
  },
  {
   "cell_type": "code",
   "execution_count": null,
   "id": "49e58b0a",
   "metadata": {},
   "outputs": [],
   "source": [
    "# モデルを評価\n",
    "print(\"Accuracy:\", accuracy_score(y_test, y_pred))"
   ]
  },
  {
   "cell_type": "markdown",
   "id": "d046fc4d",
   "metadata": {},
   "source": [
    "種名ごとの精度を確認するために`classification_report()`関数を使います。"
   ]
  },
  {
   "cell_type": "code",
   "execution_count": null,
   "id": "053f96d3",
   "metadata": {},
   "outputs": [],
   "source": [
    "print(\"Classification Report:\\n\", classification_report(y_test, y_pred))"
   ]
  },
  {
   "cell_type": "markdown",
   "id": "4867073a",
   "metadata": {},
   "source": [
    "各クラスごとに、\n",
    "precision、recall、f1-score、supportの4つの値が表示されます。それぞれの値の意味は以下の通りです。\n",
    "\n",
    "- precision: 適合率。正と予測したデータのうち、実際に正であるものの割合。\n",
    "- recall: 再現率。実際に正であるもののうち、正であると予測されたものの割合。\n",
    "- f1-score: 適合率と再現率の調和平均により得られた値。適合率と再現率のバランスを考慮した評価指標。この値が高いほど、適合率と再現率の両方が高いことを示す。\n",
    "- support: 分類されたデータ数。\n",
    "\n",
    "ここで出力される評価指標については`accuracy_score()`関数のように個別の関数を使った算出も可能です。具体的にはprecisionは`precision_score()`、recallは`recall_score()`、f1-scoreは`f1_score()`関数を利用します。\n",
    "\n",
    "### 混合行列\n",
    "\n",
    "最後に、分類モデルの性能評価に使われる混合行列を確認しましょう。混合行列は、モデルの予測結果と実際のクラスの関係を4つの要素に分類した行列です。以下の4つの要素に分類されます。\n",
    "\n",
    "- True Positive（TP）：正のクラスを正と予測し、実際に正である場合。\n",
    "- False Positive（FP）：正のクラスを正と予測したが、実際には負である場合。\n",
    "- True Negative（TN）：負のクラスを負と予測し、実際に負である場合。\n",
    "- False Negative（FN）：負のクラスを負と予測したが、実際には正である場合。\n",
    "\n",
    "scikit-learnでは、`confusion_matrix()`関数を使って混合行列を作成できます。ここではさらに、`ConfusionMatrixDisplay()`関数を使って混合行列を可視化する例を示します。"
   ]
  },
  {
   "cell_type": "code",
   "execution_count": null,
   "id": "f3ff62b0",
   "metadata": {},
   "outputs": [],
   "source": [
    "cm = confusion_matrix(y_test, y_pred)\n",
    "\n",
    "disp = ConfusionMatrixDisplay(confusion_matrix=cm, display_labels=lr.classes_)\n",
    "\n",
    "disp.plot()\n",
    "plt.show()"
   ]
  },
  {
   "cell_type": "markdown",
   "id": "8007db33",
   "metadata": {},
   "source": [
    "混合行列を見ることで、どのクラスが誤分類されやすいかを確認することができます。また、適合率や再現率の値がどのように計算されているかを理解することができます。\n",
    "\n",
    "具体的には以下のように計算されます。\n",
    "\n",
    "- 適合率: TP / (TP + FP)\n",
    "- 再現率: TP / (TP + FN)\n",
    "\n",
    "::: {.callout-note}\n",
    "- 数値変数の標準化、ラベルエンコーディングの代わりにダミー変数化を行ったデータでモデルの学習を行いましょう。\n",
    "\n",
    ":::"
   ]
  }
 ],
 "metadata": {
  "jupytext": {
   "formats": "ipynb,qmd"
  },
  "kernelspec": {
   "display_name": "Python 3 (ipykernel)",
   "language": "python",
   "name": "python3"
  },
  "language_info": {
   "codemirror_mode": {
    "name": "ipython",
    "version": 3
   },
   "file_extension": ".py",
   "mimetype": "text/x-python",
   "name": "python",
   "nbconvert_exporter": "python",
   "pygments_lexer": "ipython3",
   "version": "3.10.11"
  }
 },
 "nbformat": 4,
 "nbformat_minor": 5
}
